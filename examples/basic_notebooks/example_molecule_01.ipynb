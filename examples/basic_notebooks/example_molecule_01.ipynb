{
 "cells": [
  {
   "cell_type": "markdown",
   "metadata": {},
   "source": [
    "# The `Molecule` object\n",
    "\n",
    "In this basic tutorial we want to introduce the concept of a `Molecule`, which is a class that contains all the information about a molecule that we need to compute the total energy and other related properties."
   ]
  },
  {
   "cell_type": "markdown",
   "metadata": {},
   "source": [
    "## Initializing a Molecule object\n",
    "\n",
    "To prepare a `Molecule`, we need to compute many properties of a system. We will use PySCF to do so, although we could in principle use other software packages. For example:"
   ]
  },
  {
   "cell_type": "code",
   "execution_count": 1,
   "metadata": {},
   "outputs": [
    {
     "name": "stderr",
     "output_type": "stream",
     "text": [
      "/Users/jack.baker/miniconda3/envs/grad_dft_310/lib/python3.10/site-packages/pyscf/dft/libxc.py:772: UserWarning: Since PySCF-2.3, B3LYP (and B3P86) are changed to the VWN-RPA variant, the same to the B3LYP functional in Gaussian and ORCA (issue 1480). To restore the VWN5 definition, you can put the setting \"B3LYP_WITH_VWN5 = True\" in pyscf_conf.py\n",
      "  warnings.warn('Since PySCF-2.3, B3LYP (and B3P86) are changed to the VWN-RPA variant, '\n"
     ]
    },
    {
     "name": "stdout",
     "output_type": "stream",
     "text": [
      "SCF not converged.\n",
      "SCF energy = -100.310777591563 after 0 cycles  <S^2> = 3.191346e-06  2S+1 = 1.0000064\n"
     ]
    }
   ],
   "source": [
    "from pyscf import gto, dft\n",
    "\n",
    "# Define the geometry of the molecule\n",
    "geometry = [[\"H\", (0, 0, 0)], [\"F\", (0, 0, 1.1)]]\n",
    "mol = gto.M(atom=geometry, basis=\"def2-tzvp\", charge=0, spin=0)\n",
    "\n",
    "# And we will also need a mean-field object\n",
    "mf = dft.UKS(mol, xc=\"b3lyp\")\n",
    "mf.max_cycle = 0  # WE can select whether we want to converge the SCF or not\n",
    "ground_truth_energy = mf.kernel()"
   ]
  },
  {
   "cell_type": "markdown",
   "metadata": {},
   "source": [
    " If we want to use the `Molecule` to compute HF exact-exchange components, we will need to decide which values of $\\omega$ we want to use in the range separated Coulomb kernel: $\\text{erfc}(\\omega r)/r$. Setting $\\omega = 0$ indicates no range separation: the kernel will be $1/r$."
   ]
  },
  {
   "cell_type": "code",
   "execution_count": 2,
   "metadata": {},
   "outputs": [],
   "source": [
    "omegas = [0.0, 0.4]"
   ]
  },
  {
   "cell_type": "markdown",
   "metadata": {},
   "source": [
    "Then we can use the following convenience function to generate the `Molecule` object"
   ]
  },
  {
   "cell_type": "code",
   "execution_count": 3,
   "metadata": {},
   "outputs": [
    {
     "name": "stdout",
     "output_type": "stream",
     "text": [
      "WARNING:tensorflow:From /Users/jack.baker/miniconda3/envs/grad_dft_310/lib/python3.10/site-packages/tensorflow/python/compat/v2_compat.py:107: disable_resource_variables (from tensorflow.python.ops.variable_scope) is deprecated and will be removed in a future version.\n",
      "Instructions for updating:\n",
      "non-resource variables are not supported in the long term\n"
     ]
    }
   ],
   "source": [
    "import grad_dft as gd\n",
    "\n",
    "name = \"HF\"\n",
    "HF_molecule = gd.molecule_from_pyscf(\n",
    "    mf, grad_order=2, name=name, energy=ground_truth_energy, omegas=omegas\n",
    ")"
   ]
  },
  {
   "cell_type": "markdown",
   "metadata": {},
   "source": [
    "Alternatively we may compute and pass each of the properties of the molecule separately:"
   ]
  },
  {
   "cell_type": "code",
   "execution_count": 4,
   "metadata": {},
   "outputs": [],
   "source": [
    "HF_molecule = gd.Molecule(\n",
    "    HF_molecule.grid,\n",
    "    HF_molecule.atom_index,\n",
    "    HF_molecule.nuclear_pos,\n",
    "    HF_molecule.ao,\n",
    "    HF_molecule.grad_ao,\n",
    "    HF_molecule.grad_n_ao,\n",
    "    HF_molecule.rdm1,\n",
    "    HF_molecule.nuclear_repulsion,\n",
    "    HF_molecule.h1e,\n",
    "    HF_molecule.vj,\n",
    "    HF_molecule.mo_coeff,\n",
    "    HF_molecule.mo_occ,\n",
    "    HF_molecule.mo_energy,\n",
    "    HF_molecule.mf_energy,\n",
    "    HF_molecule.s1e,\n",
    "    HF_molecule.omegas,\n",
    "    HF_molecule.chi,\n",
    "    HF_molecule.rep_tensor,\n",
    "    HF_molecule.energy,\n",
    "    HF_molecule.basis,\n",
    "    HF_molecule.name,\n",
    "    HF_molecule.spin,\n",
    "    HF_molecule.charge,\n",
    "    HF_molecule.unit_Angstrom,\n",
    "    HF_molecule.grid_level,\n",
    "    HF_molecule.scf_iteration,\n",
    "    HF_molecule.fock,\n",
    ")"
   ]
  },
  {
   "cell_type": "markdown",
   "metadata": {},
   "source": [
    "Most of these attributes are Arrays, others are floats or integers. `grad_ao` is a dictionary of arrays, indicating the $\\text{n}^{th}$ order gradients\n",
    "of the atomic orbitals $\\nabla^n \\text{ao} = \\sum_i (\\partial^n f / \\partial x_i^n)$.\n",
    "\n",
    "It is also worth mentioning that to avoid type errors in Jax, we convert strings (the basis, the name of the molecule etc.) into integer arrays like:"
   ]
  },
  {
   "cell_type": "code",
   "execution_count": 5,
   "metadata": {},
   "outputs": [
    {
     "name": "stdout",
     "output_type": "stream",
     "text": [
      "HF [72 70]\n"
     ]
    }
   ],
   "source": [
    "import jax.numpy as jnp\n",
    "\n",
    "name_ints = jnp.array([ord(char) for char in name])\n",
    "name = \"\".join(chr(num) for num in name_ints)\n",
    "print(name, name_ints)"
   ]
  },
  {
   "cell_type": "markdown",
   "metadata": {},
   "source": [
    "## Computing gradients\n",
    "\n",
    "Now that we have a `Molecule` instance, we can compute gradients with respect to some of the properties. For example, we can compute the gradient of the electronic density with respect to the atomic orbitals.\n",
    "\n",
    "Let us compute $|\\nabla \\rho|$. In `~/grad_dft/molecule.py` we have defined the following function:"
   ]
  },
  {
   "cell_type": "code",
   "execution_count": 6,
   "metadata": {},
   "outputs": [],
   "source": [
    "def grad_density(rdm1, ao, grad_ao):\n",
    "    return 2 * jnp.einsum(\"...ab,ra,rbj->r...j\", rdm1, ao, grad_ao)\n",
    "\n",
    "\n",
    "grad_density_0 = grad_density(HF_molecule.rdm1, HF_molecule.ao, HF_molecule.grad_ao)"
   ]
  },
  {
   "cell_type": "markdown",
   "metadata": {},
   "source": [
    "Alternatively, we can efficiently compute $|\\nabla \\rho|$ by `jax.vmap`'ing over the spin and atomic orbitals axes"
   ]
  },
  {
   "cell_type": "code",
   "execution_count": 7,
   "metadata": {},
   "outputs": [],
   "source": [
    "from jax import vmap, grad\n",
    "\n",
    "def parallelized_density(rdm1, ao):\n",
    "    return jnp.einsum(\"ab,a,b->\", rdm1, ao, ao)\n",
    "\n",
    "grad_density_ao = vmap(\n",
    "    vmap(grad(parallelized_density, argnums=1), in_axes=[None, 0]), in_axes=[0, None]\n",
    ")(HF_molecule.rdm1, HF_molecule.ao)\n",
    "\n",
    "grad_density_1 = jnp.einsum(\"...rb,rbj->r...j\", grad_density_ao, HF_molecule.grad_ao)"
   ]
  },
  {
   "cell_type": "markdown",
   "metadata": {},
   "source": [
    "and check we get the same result"
   ]
  },
  {
   "cell_type": "code",
   "execution_count": 8,
   "metadata": {},
   "outputs": [
    {
     "name": "stdout",
     "output_type": "stream",
     "text": [
      "Are the two forms of computing the gradient of the density the same? True\n"
     ]
    }
   ],
   "source": [
    "print(\n",
    "    \"Are the two forms of computing the gradient of the density the same?\",\n",
    "    jnp.allclose(grad_density_0, grad_density_1),\n",
    ")"
   ]
  },
  {
   "cell_type": "markdown",
   "metadata": {},
   "source": [
    "We can now compute one of the finite-range adimensional variables"
   ]
  },
  {
   "cell_type": "code",
   "execution_count": 9,
   "metadata": {},
   "outputs": [
    {
     "name": "stdout",
     "output_type": "stream",
     "text": [
      "We can check the range is bounded between 4.455914e-05 1.0\n"
     ]
    }
   ],
   "source": [
    "grad_density_norm = jnp.linalg.norm(grad_density_0, axis=-1)\n",
    "density = HF_molecule.density()\n",
    "# We need to avoid dividing by zero\n",
    "x = jnp.where(\n",
    "    density > 1e-25,\n",
    "    grad_density_norm / (2 * (3 * jnp.pi**2) ** (1 / 3) * density ** (4 / 3)),\n",
    "    0.0,\n",
    ")\n",
    "u = x**2 / (1 + x**2)\n",
    "print(\"We can check the range is bounded between\", jnp.min(u), jnp.max(u))"
   ]
  },
  {
   "cell_type": "markdown",
   "metadata": {},
   "source": [
    "## Saving and loading\n",
    "\n",
    "Now let's talk about how to save and load a `Molecule` instance (or a list of `Molecule` instances)."
   ]
  },
  {
   "cell_type": "code",
   "execution_count": 10,
   "metadata": {},
   "outputs": [],
   "source": [
    "import os\n",
    "from grad_dft.interface import loader, saver as save\n",
    "\n",
    "save(molecules=[HF_molecule], fname=\"./HF.hdf5\")"
   ]
  },
  {
   "cell_type": "markdown",
   "metadata": {},
   "source": [
    "Now let's load it back in again"
   ]
  },
  {
   "cell_type": "code",
   "execution_count": 11,
   "metadata": {},
   "outputs": [
    {
     "name": "stderr",
     "output_type": "stream",
     "text": [
      "Molecules/reactions per file: 0it [00:00, ?it/s]/Users/jack.baker/code/GradDFT/grad_dft/interface/pyscf.py:338: UserWarning: Explicitly requested dtype <class 'jax.numpy.float64'> requested in asarray is not available, and will be truncated to dtype float32. To enable more dtypes, set the jax_enable_x64 configuration option or the JAX_ENABLE_X64 shell environment variable. See https://github.com/google/jax#current-gotchas for more.\n",
      "  args[key] = jnp.asarray(value, dtype=jnp.float64)\n",
      "/Users/jack.baker/code/GradDFT/grad_dft/interface/pyscf.py:313: UserWarning: Explicitly requested dtype <class 'jax.numpy.int64'> requested in array is not available, and will be truncated to dtype int32. To enable more dtypes, set the jax_enable_x64 configuration option or the JAX_ENABLE_X64 shell environment variable. See https://github.com/google/jax#current-gotchas for more.\n",
      "  args[key] = jnp.array([ord(char) for char in str(value[()])], dtype=jnp.int64)\n",
      "/Users/jack.baker/miniconda3/envs/grad_dft_310/lib/python3.10/site-packages/jax/_src/numpy/lax_numpy.py:147: UserWarning: Explicitly requested dtype int64 requested in asarray is not available, and will be truncated to dtype int32. To enable more dtypes, set the jax_enable_x64 configuration option or the JAX_ENABLE_X64 shell environment variable. See https://github.com/google/jax#current-gotchas for more.\n",
      "  return asarray(x, dtype=self.dtype)\n",
      "/Users/jack.baker/miniconda3/envs/grad_dft_310/lib/python3.10/site-packages/jax/_src/numpy/lax_numpy.py:147: UserWarning: Explicitly requested dtype float64 requested in asarray is not available, and will be truncated to dtype float32. To enable more dtypes, set the jax_enable_x64 configuration option or the JAX_ENABLE_X64 shell environment variable. See https://github.com/google/jax#current-gotchas for more.\n",
      "  return asarray(x, dtype=self.dtype)\n",
      "/Users/jack.baker/code/GradDFT/grad_dft/interface/pyscf.py:319: UserWarning: Explicitly requested dtype <class 'jax.numpy.float64'> requested in asarray is not available, and will be truncated to dtype float32. To enable more dtypes, set the jax_enable_x64 configuration option or the JAX_ENABLE_X64 shell environment variable. See https://github.com/google/jax#current-gotchas for more.\n",
      "  args[key] = {int(k): jnp.asarray(v, dtype = jnp.float64) for k, v in value.items()}\n",
      "Molecules/reactions per file: 1it [00:00, 35.02it/s]"
     ]
    },
    {
     "name": "stdout",
     "output_type": "stream",
     "text": [
      "Molecule name b'HF'\n"
     ]
    },
    {
     "name": "stderr",
     "output_type": "stream",
     "text": [
      "\n"
     ]
    }
   ],
   "source": [
    "from tqdm import tqdm\n",
    "\n",
    "load = loader(fname=\"./HF.hdf5\", randomize=True, training=False, config_omegas=[])\n",
    "for _, system in tqdm(load, \"Molecules/reactions per file\"):\n",
    "    HF_molecule = system\n",
    "    print(\n",
    "        \"Molecule name\", \"\".join(chr(num) for num in HF_molecule.name)\n",
    "    )  # We use training = False so molecule.name is a string"
   ]
  },
  {
   "cell_type": "markdown",
   "metadata": {},
   "source": [
    "We can also create reactions, save, and load them. For example, let us emulate the formation reaction of HF from H and F atoms:"
   ]
  },
  {
   "cell_type": "code",
   "execution_count": 12,
   "metadata": {},
   "outputs": [
    {
     "name": "stdout",
     "output_type": "stream",
     "text": [
      "converged SCF energy = -0.478343887986114  <S^2> = 0.75  2S+1 = 2\n",
      "converged SCF energy = -99.1074043968129  <S^2> = 0.75117427  2S+1 = 2.0011739\n"
     ]
    }
   ],
   "source": [
    "products = [HF_molecule]\n",
    "\n",
    "reaction_energy = ground_truth_energy\n",
    "\n",
    "reactants = []\n",
    "for atom in [\"H\", \"F\"]:\n",
    "    # Define the geometry of the molecule\n",
    "    mol = gto.M(atom=[[atom, (0, 0, 0)]], basis=\"def2-tzvp\", charge=0, spin=1)\n",
    "\n",
    "    # To perform DFT we also need a grid\n",
    "    grids = dft.gen_grid.Grids(mol)\n",
    "    grids.level = 2\n",
    "    grids.build()\n",
    "\n",
    "    # And we will also need a mean-field object\n",
    "    mf = dft.UKS(mol)\n",
    "    mf.grids = grids\n",
    "    ground_truth_energy = mf.kernel()\n",
    "\n",
    "    molecule = gd.molecule_from_pyscf(\n",
    "        mf, grad_order=2, name=atom, energy=ground_truth_energy, omegas=omegas\n",
    "    )\n",
    "\n",
    "    reactants.append(molecule)\n",
    "    reaction_energy -= ground_truth_energy\n",
    "\n",
    "reaction = gd.make_reaction(reactants, products, [1, 1], [1], reaction_energy, name=\"HF_formation\")"
   ]
  },
  {
   "cell_type": "markdown",
   "metadata": {},
   "source": [
    "saving it:"
   ]
  },
  {
   "cell_type": "code",
   "execution_count": 13,
   "metadata": {},
   "outputs": [],
   "source": [
    "save(molecules=[HF_molecule], reactions=[reaction], fname=\"HF_formation.hdf5\")"
   ]
  },
  {
   "cell_type": "markdown",
   "metadata": {},
   "source": [
    "loading it:"
   ]
  },
  {
   "cell_type": "code",
   "execution_count": 14,
   "metadata": {},
   "outputs": [
    {
     "name": "stderr",
     "output_type": "stream",
     "text": [
      "Molecules/reactions per file: 2it [00:00, 30.41it/s]"
     ]
    },
    {
     "name": "stdout",
     "output_type": "stream",
     "text": [
      "<class 'grad_dft.molecule.Molecule'> b\"b'HF'\"\n",
      "<class 'grad_dft.molecule.Reaction'> ['HF', 'formation', '0']\n"
     ]
    },
    {
     "name": "stderr",
     "output_type": "stream",
     "text": [
      "\n"
     ]
    }
   ],
   "source": [
    "load = loader(fname=\"HF_formation.hdf5\", randomize=True, training=False, config_omegas=[])\n",
    "for _, system in tqdm(load, \"Molecules/reactions per file\"):\n",
    "    print(\n",
    "        type(system), \"\".join(chr(num) for num in system.name)\n",
    "    )  # We use training = False so system.name is a string"
   ]
  }
 ],
 "metadata": {
  "kernelspec": {
   "display_name": "grad_dft_310",
   "language": "python",
   "name": "python3"
  },
  "language_info": {
   "codemirror_mode": {
    "name": "ipython",
    "version": 3
   },
   "file_extension": ".py",
   "mimetype": "text/x-python",
   "name": "python",
   "nbconvert_exporter": "python",
   "pygments_lexer": "ipython3",
   "version": "3.10.13"
  },
  "orig_nbformat": 4
 },
 "nbformat": 4,
 "nbformat_minor": 2
}

{
 "cells": [
  {
   "cell_type": "markdown",
   "metadata": {},
   "source": [
    "# Basic Functionals in Grad DFT"
   ]
  },
  {
   "cell_type": "markdown",
   "metadata": {},
   "source": [
    "In this basic tutorial we will to introduce the concept of a functional.\n",
    "\n",
    "First, we we will prepare a `Molecule` instance, like we did in the previous tutorial:"
   ]
  },
  {
   "cell_type": "code",
   "execution_count": 1,
   "metadata": {},
   "outputs": [
    {
     "name": "stderr",
     "output_type": "stream",
     "text": [
      "/Users/pablo.casares/miniforge3/envs/graddft/lib/python3.10/site-packages/pyscf/dft/libxc.py:772: UserWarning: Since PySCF-2.3, B3LYP (and B3P86) are changed to the VWN-RPA variant, the same to the B3LYP functional in Gaussian and ORCA (issue 1480). To restore the VWN5 definition, you can put the setting \"B3LYP_WITH_VWN5 = True\" in pyscf_conf.py\n",
      "  warnings.warn('Since PySCF-2.3, B3LYP (and B3P86) are changed to the VWN-RPA variant, '\n"
     ]
    },
    {
     "name": "stdout",
     "output_type": "stream",
     "text": [
      "WARNING:tensorflow:From /Users/pablo.casares/miniforge3/envs/graddft/lib/python3.10/site-packages/tensorflow/python/compat/v2_compat.py:107: disable_resource_variables (from tensorflow.python.ops.variable_scope) is deprecated and will be removed in a future version.\n",
      "Instructions for updating:\n",
      "non-resource variables are not supported in the long term\n",
      "converged SCF energy = -0.478343887897971  <S^2> = 0.75  2S+1 = 2\n"
     ]
    }
   ],
   "source": [
    "from pyscf import gto, dft\n",
    "import grad_dft as gd\n",
    "\n",
    "# Define the geometry of the molecule and mean-field object\n",
    "mol = gto.M(atom=[[\"H\", (0, 0, 0)]], basis=\"def2-tzvp\", charge=0, spin=1)\n",
    "mf = dft.UKS(mol)\n",
    "mf.kernel()\n",
    "# Then we can use the following function to generate the molecule object\n",
    "HF_molecule = gd.molecule_from_pyscf(mf)"
   ]
  },
  {
   "cell_type": "markdown",
   "metadata": {},
   "source": [
    "## Building an LDA exchange functional from scratch\n",
    "\n",
    "To create any functional in Grad DFT, neural or otherwise, we need to define at least the following methods:\n",
    "\n",
    "1. A features function, which takes a molecule and returns an array of features such as the density, its spatial derivatives and/or the kinetic density. We will just use the density."
   ]
  },
  {
   "cell_type": "code",
   "execution_count": 2,
   "metadata": {},
   "outputs": [],
   "source": [
    "import jax.numpy as jnp\n",
    "\n",
    "def coefficient_inputs(molecule: gd.Molecule, *_, **__):\n",
    "    rho = molecule.density()\n",
    "    return rho"
   ]
  },
  {
   "cell_type": "markdown",
   "metadata": {},
   "source": [
    "2. A function which takes a `Molecule` instance and returns energy densities $e[\\rho](\\mathbf{r})$. We will use just the LDA exchange energy density."
   ]
  },
  {
   "cell_type": "code",
   "execution_count": 3,
   "metadata": {},
   "outputs": [],
   "source": [
    "def energy_densities(molecule: gd.Molecule, clip_cte: float = 1e-30):\n",
    "    r\"\"\"Auxiliary function to generate the features of LSDA.\"\"\"\n",
    "    # Molecule can compute the density matrix.\n",
    "    rho = molecule.density()\n",
    "    # To avoid numerical issues in JAX we limit too small numbers.\n",
    "    rho = jnp.clip(rho, a_min=clip_cte)\n",
    "    # Now we can implement the LDA energy density equation in the paper.\n",
    "    lda_e = -3 / 2 * (3 / (4 * jnp.pi)) ** (1 / 3) * (rho ** (4 / 3)).sum(axis=1, keepdims=True)\n",
    "    # For simplicity we do not include the exchange polarization correction\n",
    "    # check function exchange_polarization_correction in functional.py\n",
    "    # The output of features must be an Array of dimension n_grid x n_features.\n",
    "    return lda_e"
   ]
  },
  {
   "cell_type": "markdown",
   "metadata": {},
   "source": [
    "3. A coefficient function $\\mathbf{c}_{\\boldsymbol{\\theta}}[\\rho](\\mathbf{r})$. In the neural case, this is where a neural network enters the scene (see the next tutorial). For a simple functional with fixed parameters like the LDA, the coefficient function is a constant "
   ]
  },
  {
   "cell_type": "code",
   "execution_count": 4,
   "metadata": {},
   "outputs": [],
   "source": [
    "def coefficients(instance, rho):\n",
    "    return jnp.array([[1.]])"
   ]
  },
  {
   "cell_type": "markdown",
   "metadata": {},
   "source": [
    "with the above ingredients, we can now successfully build\n",
    "\n",
    "$$\n",
    "\n",
    "E_{xc}[\\rho] = \\int \\mathbf{c}_{\\boldsymbol{\\theta}}[\\rho](\\mathbf{r}) \\cdot \\mathbf{e}[\\rho](\\mathbf{r})d\\mathbf{r}\n",
    "\n",
    "$$\n",
    "\n",
    "which in our simple exchange-only LDA case is\n",
    "\n",
    "$$\n",
    "\n",
    "E_{x, LDA}[\\rho] = \\int e_{x, LDA}[\\rho](\\mathbf{r}) d\\mathbf{r}\n",
    "\n",
    "$$"
   ]
  },
  {
   "cell_type": "code",
   "execution_count": 5,
   "metadata": {},
   "outputs": [],
   "source": [
    "LSDA = gd.Functional(coefficients, energy_densities)"
   ]
  },
  {
   "cell_type": "markdown",
   "metadata": {},
   "source": [
    "## Simple computations with functionals"
   ]
  },
  {
   "cell_type": "markdown",
   "metadata": {},
   "source": [
    "We can compute the predicted energy using the following code:"
   ]
  },
  {
   "cell_type": "code",
   "execution_count": 6,
   "metadata": {},
   "outputs": [],
   "source": [
    "from flax.core import freeze\n",
    "\n",
    "params = freeze({'params': {}}) # Since the functional is not neural, we pass frozen dict for the parameters\n",
    "compute_energy = gd.energy_predictor(LSDA)\n",
    "predicted_energy_0, fock = compute_energy(params=params, molecule=HF_molecule)"
   ]
  },
  {
   "cell_type": "markdown",
   "metadata": {},
   "source": [
    "You may notice we also predicted a Fock matrix. More on that in the next section!\n",
    "\n",
    "We may use `molecule_predictor` to compute the energy of any other molecule too.\n",
    "\n",
    "Another was of doing the same thing is first computing the features and then the energy."
   ]
  },
  {
   "cell_type": "code",
   "execution_count": 7,
   "metadata": {},
   "outputs": [],
   "source": [
    "predicted_energy_1 = LSDA.energy(params, HF_molecule)"
   ]
  },
  {
   "cell_type": "markdown",
   "metadata": {},
   "source": [
    "Under the hood, what is really happening to compute the energy is the following:\n",
    "\n",
    "First we compute the densities"
   ]
  },
  {
   "cell_type": "code",
   "execution_count": 8,
   "metadata": {},
   "outputs": [],
   "source": [
    "densities = LSDA.compute_densities(molecule=HF_molecule)"
   ]
  },
  {
   "cell_type": "markdown",
   "metadata": {},
   "source": [
    "Then we compute the coefficient inputs"
   ]
  },
  {
   "cell_type": "code",
   "execution_count": 9,
   "metadata": {},
   "outputs": [],
   "source": [
    "cinputs = LSDA.compute_coefficient_inputs(molecule=HF_molecule)"
   ]
  },
  {
   "cell_type": "markdown",
   "metadata": {},
   "source": [
    "Next, we compute the exchange-correlation energy"
   ]
  },
  {
   "cell_type": "code",
   "execution_count": 10,
   "metadata": {},
   "outputs": [],
   "source": [
    "predicted_energy_2 = LSDA.xc_energy(params, HF_molecule.grid, cinputs, densities)"
   ]
  },
  {
   "cell_type": "markdown",
   "metadata": {},
   "source": [
    "and, finally, add the non-exchange-correlation energy component"
   ]
  },
  {
   "cell_type": "code",
   "execution_count": 11,
   "metadata": {},
   "outputs": [],
   "source": [
    "predicted_energy_2 += HF_molecule.nonXC()"
   ]
  },
  {
   "cell_type": "markdown",
   "metadata": {},
   "source": [
    "We can check that all methods return the same energy"
   ]
  },
  {
   "cell_type": "code",
   "execution_count": 12,
   "metadata": {},
   "outputs": [
    {
     "name": "stdout",
     "output_type": "stream",
     "text": [
      "Predicted energies -0.45662177 -0.45662177 -0.45662177\n"
     ]
    }
   ],
   "source": [
    "print(\"Predicted energies\", predicted_energy_0, predicted_energy_1, predicted_energy_2)"
   ]
  },
  {
   "cell_type": "markdown",
   "metadata": {},
   "source": [
    "## Computing the Fock matrix using automatic differentiation"
   ]
  },
  {
   "cell_type": "markdown",
   "metadata": {},
   "source": [
    "How did we compute the Fock matrix above? We used the Jax `value_and_grad` function.\n",
    "\n",
    "Let us start defining a function that computes the energy from some one particle reduced density matrix `rdm1`:"
   ]
  },
  {
   "cell_type": "code",
   "execution_count": 13,
   "metadata": {},
   "outputs": [],
   "source": [
    "def compute_energy_and_fock(rdm1, molecule):\n",
    "    molecule = molecule.replace(rdm1=rdm1)\n",
    "    return LSDA.energy(params, molecule)"
   ]
  },
  {
   "cell_type": "markdown",
   "metadata": {},
   "source": [
    "Now comes the magic of Jax. We can compute the energy and the gradient of the energy\n",
    "using `jax.grad` (or alternatively `value_and_grad`), indicating the argument we are takiong the derivatives with respect to"
   ]
  },
  {
   "cell_type": "code",
   "execution_count": 14,
   "metadata": {},
   "outputs": [],
   "source": [
    "from jax import grad\n",
    "\n",
    "new_fock = grad(compute_energy_and_fock, argnums=0)(HF_molecule.rdm1, HF_molecule)"
   ]
  },
  {
   "cell_type": "markdown",
   "metadata": {},
   "source": [
    "Next, we need to add the corrections to compute the full fock matrix"
   ]
  },
  {
   "cell_type": "code",
   "execution_count": 15,
   "metadata": {},
   "outputs": [],
   "source": [
    "new_fock = 1 / 2 * (new_fock + new_fock.transpose(0, 2, 1))"
   ]
  },
  {
   "cell_type": "code",
   "execution_count": 16,
   "metadata": {},
   "outputs": [
    {
     "name": "stdout",
     "output_type": "stream",
     "text": [
      "Is the newly computed fock matrix correct?: True\n"
     ]
    }
   ],
   "source": [
    "print(\"Is the newly computed fock matrix correct?:\", jnp.isclose(fock, new_fock).all())"
   ]
  }
 ],
 "metadata": {
  "kernelspec": {
   "display_name": "grad_dft_310",
   "language": "python",
   "name": "python3"
  },
  "language_info": {
   "codemirror_mode": {
    "name": "ipython",
    "version": 3
   },
   "file_extension": ".py",
   "mimetype": "text/x-python",
   "name": "python",
   "nbconvert_exporter": "python",
   "pygments_lexer": "ipython3",
   "version": "3.10.12"
  },
  "orig_nbformat": 4
 },
 "nbformat": 4,
 "nbformat_minor": 2
}

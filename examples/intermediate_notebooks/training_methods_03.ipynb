{
 "cells": [
  {
   "cell_type": "markdown",
   "metadata": {},
   "source": [
    "# Different Methods for Training Neural Functionals in Grad DFT\n",
    "\n",
    "In this notebook, we will run through the different strategies that can be used to train a Neural functional in Grad DFT. Using $\\text{H}_2$ and $\\text{Na}_2$ as training molecules, we will study how a neural functional can generalize to calculating the total energy and density of $\\text{Li}_2$. After following through this notebook, you should have a good idea how to use Grad DFT to train your own neural functionals. "
   ]
  },
  {
   "cell_type": "markdown",
   "metadata": {},
   "source": [
    "## Generating training/validation data and initial guesses\n",
    "\n",
    "To run the forthcoming experiments, we need three things. \n",
    "\n",
    "1. Training data: this will be the data used to train our Neural functional. We will generate energy and densities from PySCF using the configuration interation singles and doubles (CISD) for $\\text{H}_2$ and $\\text{Na}_2$.\n",
    "\n",
    "2. Validation data using the same method as above for $\\text{Li}_2$\n",
    "\n",
    "3. Initial guesses for densities and other quantities needed to prime Grad DFT. We'll use a Local Density Approximation (LDA) initial guess."
   ]
  },
  {
   "cell_type": "code",
   "execution_count": 1,
   "metadata": {},
   "outputs": [
    {
     "name": "stderr",
     "output_type": "stream",
     "text": [
      "/Users/jack.baker/miniconda3/envs/grad_dft_310/lib/python3.10/site-packages/pyscf/dft/libxc.py:772: UserWarning: Since PySCF-2.3, B3LYP (and B3P86) are changed to the VWN-RPA variant, the same to the B3LYP functional in Gaussian and ORCA (issue 1480). To restore the VWN5 definition, you can put the setting \"B3LYP_WITH_VWN5 = True\" in pyscf_conf.py\n",
      "  warnings.warn('Since PySCF-2.3, B3LYP (and B3P86) are changed to the VWN-RPA variant, '\n"
     ]
    },
    {
     "name": "stdout",
     "output_type": "stream",
     "text": [
      "WARNING:tensorflow:From /Users/jack.baker/miniconda3/envs/grad_dft_310/lib/python3.10/site-packages/tensorflow/python/compat/v2_compat.py:107: disable_resource_variables (from tensorflow.python.ops.variable_scope) is deprecated and will be removed in a future version.\n",
      "Instructions for updating:\n",
      "non-resource variables are not supported in the long term\n"
     ]
    }
   ],
   "source": [
    "import pyscf\n",
    "\n",
    "import jax.numpy as jnp\n",
    "from jax import config\n",
    "from jax.random import PRNGKey\n",
    "config.update(\"jax_enable_x64\", True)\n",
    "\n",
    "from copy import deepcopy\n",
    "\n",
    "import grad_dft as gd\n",
    "\n",
    "seed = 1984 # Random seed used throughout this notebok for reproducibility reasons.\n",
    "key = PRNGKey(seed)"
   ]
  },
  {
   "cell_type": "code",
   "execution_count": 2,
   "metadata": {},
   "outputs": [
    {
     "name": "stdout",
     "output_type": "stream",
     "text": [
      "converged SCF energy = -1.12871495902961  <S^2> = 1.4654944e-13  2S+1 = 1\n",
      "E(UCISD) = -1.163413933537264  E_corr = -0.03469897450765828\n",
      "converged SCF energy = -1.13148797560677  <S^2> = 2.220446e-16  2S+1 = 1\n",
      "converged SCF energy = -323.704483010667  <S^2> = 2.0238033e-11  2S+1 = 1\n",
      "E(UCISD) = -323.7334720005059  E_corr = -0.028988989838997\n",
      "converged SCF energy = -322.890283352589  <S^2> = 8.9936947e-12  2S+1 = 1\n",
      "converged SCF energy = -14.8694988574654  <S^2> = 1.1123412e-07  2S+1 = 1.0000002\n",
      "E(UCISD) = -14.90129729112029  E_corr = -0.03179843365493074\n",
      "converged SCF energy = -14.7196118215509  <S^2> = 8.3844043e-13  2S+1 = 1\n"
     ]
    }
   ],
   "source": [
    "# Training molecules. All experimental bond lengths taken from the Computational Chemistry Comparison and Benchmark DataBase\n",
    "H2_bl = 0.7414\n",
    "H2_mol =  pyscf.M(\n",
    "        atom = 'H %.5f 0.0 0.0; H %.5f 0.0 0.0' % (-H2_bl/2, H2_bl/2),\n",
    "        basis = 'ccpvdz'\n",
    ")\n",
    "\n",
    "Na2_bl = 3.0789\n",
    "Na2_mol =  pyscf.M(\n",
    "        atom = 'Na %.5f 0.0 0.0; Na %.5f 0.0 0.0' % (-Na2_bl/2, Na2_bl/2),\n",
    "        basis = 'ccpvdz'\n",
    ")\n",
    "\n",
    "# Validation molecule\n",
    "Li2_bl = 2.6730\n",
    "Li2_mol =  pyscf.M(\n",
    "        atom = 'Li %.5f 0.0 0.0; Li %.5f 0.0 0.0' % (-Li2_bl/2, Li2_bl/2),\n",
    "        basis = 'ccpvdz'\n",
    ")\n",
    "\n",
    "mols = [H2_mol, Na2_mol, Li2_mol]\n",
    "\n",
    "energies = []\n",
    "densities = []\n",
    "init_guesses = []\n",
    "for mol in mols:\n",
    "    \n",
    "    # CISD calculations used for training energies and densities\n",
    "    mf = mol.UHF().run()\n",
    "    ci = pyscf.ci.CISD(mf).run()\n",
    "    \n",
    "    # DFT calculations used for initial guesses for densities\n",
    "    mf_dft = mol.UKS().run()\n",
    "    grad_dft_mol = gd.molecule_from_pyscf(mf_dft)\n",
    "    init_guesses.append(deepcopy(grad_dft_mol))\n",
    "    \n",
    "    # compute the rdm1 in the ao basis and pass to DFT object to compute CISD density\n",
    "    # on same grid as DFT calculations. This works because we use the same AOs for DFT and CISD\n",
    "    ci_rdm1 = ci.make_rdm1(ao_repr=True)\n",
    "    dft_ci_rdm1 = grad_dft_mol.replace(rdm1=jnp.asarray(ci_rdm1))\n",
    "    den_ci = dft_ci_rdm1.density()\n",
    "\n",
    "    energies.append(ci.e_tot)\n",
    "    densities.append(den_ci)"
   ]
  },
  {
   "cell_type": "markdown",
   "metadata": {},
   "source": [
    "## Defining a simple Neural functional\n",
    "\n",
    "We now need a neural functional to train. We will go with the GGA version of the functional trained in the main article (DM21) with a strongly reduced number of layers and parameters. This makes our choice for $\\mathbf{c}_{\\boldsymbol{\\theta}}[\\rho](\\mathbf{r})$ (fully defined in the main article). Although the energy densities $\\mathbf{e}[\\rho](r)$ can also be specified manually, Grad DFT ships with the DM21 energy densities (and many others), which we will just import."
   ]
  },
  {
   "cell_type": "code",
   "execution_count": 3,
   "metadata": {},
   "outputs": [],
   "source": [
    "from grad_dft.functional import canonicalize_inputs, dm21_coefficient_inputs, dm21_densities\n",
    "from flax import linen as nn\n",
    "from jax.nn import sigmoid, gelu\n",
    "from functools import partial\n",
    "\n",
    "squash_offset = 1e-4\n",
    "layer_widths = [6] * 2\n",
    "\n",
    "out_features = 2\n",
    "sigmoid_scale_factor = 2.0\n",
    "activation = gelu\n",
    "\n",
    "def nn_coefficients(instance, rhoinputs, *_, **__):\n",
    "    x = canonicalize_inputs(rhoinputs)  # Making sure dimensions are correct\n",
    "    # Initial layer: log -> dense -> tanh\n",
    "    x = jnp.log(jnp.abs(x) + squash_offset)  # squash_offset = 1e-4\n",
    "    instance.sow(\"intermediates\", \"log\", x)\n",
    "    x = instance.dense(features=layer_widths[0])(x)  # features = 256\n",
    "    instance.sow(\"intermediates\", \"initial_dense\", x)\n",
    "    x = jnp.tanh(x)\n",
    "    instance.sow(\"intermediates\", \"norm\", x)\n",
    "    # 2 Residual blocks with 6-features dense layer and layer norm\n",
    "    for features, i in zip(layer_widths, range(len(layer_widths))):  # layer_widths = [256]*6\n",
    "        res = x\n",
    "        x = instance.dense(features=features)(x)\n",
    "        instance.sow(\"intermediates\", \"residual_dense_\" + str(i), x)\n",
    "        x = x + res  # nn.Dense + Residual connection\n",
    "        instance.sow(\"intermediates\", \"residual_residual_\" + str(i), x)\n",
    "        x = instance.layer_norm()(x)  # + res # nn.LayerNorm\n",
    "        instance.sow(\"intermediates\", \"residual_layernorm_\" + str(i), x)\n",
    "        x = activation(x)  # activation = jax.nn.gelu\n",
    "        instance.sow(\"intermediates\", \"residual_elu_\" + str(i), x)\n",
    "    return instance.head(x, out_features, sigmoid_scale_factor)\n",
    "        \n",
    "functional = gd.NeuralFunctional(\n",
    "    coefficients=nn_coefficients,\n",
    "    coefficient_inputs=dm21_coefficient_inputs,\n",
    "    energy_densities=partial(dm21_densities, functional_type=\"GGA\"),\n",
    ")"
   ]
  },
  {
   "cell_type": "markdown",
   "metadata": {},
   "source": [
    "## Non self-consistent training\n",
    "\n",
    "The simplest (and computationally cheapest) way to train a neural functional in Grad DFT is non-self consistently. In this scheme, Grad DFT is passed a density $\\rho(\\mathbf{r})$ which we approximate as the true ground state density for all values of the neural functional parameters $\\boldsymbol{\\theta}$. This is an acceptable approxmiation to make in cases where we can easily generate high quality densities.\n",
    "\n",
    "Within this non-self consistent scheme, it is also only appropriate to train neural functionals using the scalar values of the truth energies. This is because, as stated before, the density is static upon changes to $\\boldsymbol{\\theta}$ (which, as you will see, can also be trained in the self-consistent case). The mean-squared error (MSE) energy loss is defined as:\n",
    "\n",
    "$$\n",
    "\\mathcal{L^{\\text{non-SC}}(\\boldsymbol{\\theta})} = \\frac{1}{N}\\sum_{i=0}^N (E_i^{\\text{non-SC}}(\\boldsymbol{\\theta}) - E_i^{\\text{truth}})^2\n",
    "$$\n",
    "\n",
    "where $N$ is the number of samples in the training set, $E_i^{\\text{non-SC}}(\\boldsymbol{\\theta})$ is a non-self consistent evaluation of the total energy at the approximate ground state density $\\rho_i(\\mathbf{r})$ using a neural functional with parameters $\\boldsymbol{\\theta}$ and $E_i^{\\text{truth}}$ is the corresponding high accuracy truth energy. The default loss functions in Grad DFT will also divide by the number of electrons in MSE losses so heavier molecules are less biased in training.\n",
    "\n",
    "Let's write some code to train a neural functional in this way! We first define a function to be used throughout the rest of this notebook."
   ]
  },
  {
   "cell_type": "code",
   "execution_count": 4,
   "metadata": {},
   "outputs": [],
   "source": [
    "from optax import adam, apply_updates\n",
    "from tqdm import tqdm\n",
    "from jax import value_and_grad\n",
    "\n",
    "def train_neural_functional(train_recipe: tuple, validate_recipe: tuple) -> None:\n",
    "    r\"\"\"Minimize a Grad DFT loss function using 50 epochs of the Adam optimizer.\n",
    "\n",
    "    Args:\n",
    "        train_recipe (tuple):train_recipe (tuple): information regarding the loss, its arguments and the predictor.\n",
    "        validate_recipe (tuple):train_recipe (tuple): the same information as train_recipe, but for the validation calculation.\n",
    "    Returns:\n",
    "        tuple: the training and validation loss history over the number of training epochs\n",
    "    \"\"\"\n",
    "    \n",
    "    loss_func, loss_args = train_recipe\n",
    "    val_func, val_args = validate_recipe\n",
    "    \n",
    "    tr_params = functional.init(key, dm21_coefficient_inputs(loss_args[2][0]))\n",
    "    loss_args[0] = tr_params\n",
    "    val_args[0] = tr_params\n",
    "    \n",
    "    tx = adam(learning_rate=0.01, b1=0.9)\n",
    "    opt_state = tx.init(tr_params)\n",
    "    loss_and_grad = value_and_grad(loss_func)\n",
    "    tr_loss_history = []\n",
    "    val_loss_history = []\n",
    "    for i in tqdm(range(50), desc=\"Training epoch\"):\n",
    "        tr_loss_value, grads = loss_and_grad(*loss_args)\n",
    "        val_loss_value = val_func(*val_args)\n",
    "        tr_loss_history.append(tr_loss_value)\n",
    "        val_loss_history.append(val_loss_value)\n",
    "        updates, opt_state = tx.update(grads, opt_state, tr_params)\n",
    "        tr_params = apply_updates(tr_params, updates)\n",
    "        loss_args[0] = tr_params\n",
    "        val_args[0] = tr_params\n",
    "        if (i + 1) % 5 == 0:\n",
    "            print(f\"At epoch {i+1} training loss = {tr_loss_value}, validation loss = {val_loss_value}\")\n",
    "    return tr_loss_history, val_loss_history\n",
    "   "
   ]
  },
  {
   "cell_type": "markdown",
   "metadata": {},
   "source": [
    "Now we define the settings to pass to `train_neural_functional` for non-self consistent training:"
   ]
  },
  {
   "cell_type": "code",
   "execution_count": 5,
   "metadata": {},
   "outputs": [],
   "source": [
    "non_sc_train_recipe = (\n",
    "    gd.mse_energy_loss, \n",
    "    [None, gd.non_scf_predictor(functional), init_guesses[0:2], energies[0:2], True]\n",
    ")\n",
    "non_sc_validate_recipe = (\n",
    "    gd.mse_energy_loss, \n",
    "    [None, gd.non_scf_predictor(functional), [init_guesses[-1]], [energies[-1]], True]\n",
    ")"
   ]
  },
  {
   "cell_type": "code",
   "execution_count": 6,
   "metadata": {},
   "outputs": [
    {
     "name": "stderr",
     "output_type": "stream",
     "text": [
      "Training epoch:  10%|█         | 5/50 [00:12<01:20,  1.80s/it]"
     ]
    },
    {
     "name": "stdout",
     "output_type": "stream",
     "text": [
      "At epoch 5 training loss = 0.002433435033921573, validation loss = 0.0035959841441159223\n"
     ]
    },
    {
     "name": "stderr",
     "output_type": "stream",
     "text": [
      "Training epoch:  20%|██        | 10/50 [00:18<00:55,  1.39s/it]"
     ]
    },
    {
     "name": "stdout",
     "output_type": "stream",
     "text": [
      "At epoch 10 training loss = 0.0010994685206139343, validation loss = 0.0016574831050389413\n"
     ]
    },
    {
     "name": "stderr",
     "output_type": "stream",
     "text": [
      "Training epoch:  30%|███       | 15/50 [00:25<00:46,  1.33s/it]"
     ]
    },
    {
     "name": "stdout",
     "output_type": "stream",
     "text": [
      "At epoch 15 training loss = 0.0006574184531698504, validation loss = 0.0009444145317535853\n"
     ]
    },
    {
     "name": "stderr",
     "output_type": "stream",
     "text": [
      "Training epoch:  40%|████      | 20/50 [00:32<00:39,  1.33s/it]"
     ]
    },
    {
     "name": "stdout",
     "output_type": "stream",
     "text": [
      "At epoch 20 training loss = 0.0003767099668839393, validation loss = 0.0006592813676012154\n"
     ]
    },
    {
     "name": "stderr",
     "output_type": "stream",
     "text": [
      "Training epoch:  50%|█████     | 25/50 [00:38<00:33,  1.33s/it]"
     ]
    },
    {
     "name": "stdout",
     "output_type": "stream",
     "text": [
      "At epoch 25 training loss = 0.00020436936195892283, validation loss = 0.0004218373954360841\n"
     ]
    },
    {
     "name": "stderr",
     "output_type": "stream",
     "text": [
      "Training epoch:  60%|██████    | 30/50 [00:45<00:26,  1.32s/it]"
     ]
    },
    {
     "name": "stdout",
     "output_type": "stream",
     "text": [
      "At epoch 30 training loss = 0.00010308287241903616, validation loss = 0.0003147541576174025\n"
     ]
    },
    {
     "name": "stderr",
     "output_type": "stream",
     "text": [
      "Training epoch:  70%|███████   | 35/50 [00:52<00:20,  1.35s/it]"
     ]
    },
    {
     "name": "stdout",
     "output_type": "stream",
     "text": [
      "At epoch 35 training loss = 4.5543331779248986e-05, validation loss = 0.00021031508080261211\n"
     ]
    },
    {
     "name": "stderr",
     "output_type": "stream",
     "text": [
      "Training epoch:  80%|████████  | 40/50 [00:58<00:13,  1.34s/it]"
     ]
    },
    {
     "name": "stdout",
     "output_type": "stream",
     "text": [
      "At epoch 40 training loss = 1.5906166273681282e-05, validation loss = 0.00016464075335062103\n"
     ]
    },
    {
     "name": "stderr",
     "output_type": "stream",
     "text": [
      "Training epoch:  90%|█████████ | 45/50 [01:05<00:06,  1.37s/it]"
     ]
    },
    {
     "name": "stdout",
     "output_type": "stream",
     "text": [
      "At epoch 45 training loss = 3.580873186732103e-06, validation loss = 0.00011322380979572734\n"
     ]
    },
    {
     "name": "stderr",
     "output_type": "stream",
     "text": [
      "Training epoch: 100%|██████████| 50/50 [01:12<00:00,  1.45s/it]"
     ]
    },
    {
     "name": "stdout",
     "output_type": "stream",
     "text": [
      "At epoch 50 training loss = 4.898865669419006e-07, validation loss = 9.971360987532622e-05\n"
     ]
    },
    {
     "name": "stderr",
     "output_type": "stream",
     "text": [
      "\n"
     ]
    }
   ],
   "source": [
    "tr_loss_his_nsc, val_loss_his_nsc = train_neural_functional(non_sc_train_recipe, non_sc_validate_recipe)"
   ]
  },
  {
   "cell_type": "code",
   "execution_count": 7,
   "metadata": {},
   "outputs": [
    {
     "data": {
      "text/plain": [
       "<matplotlib.legend.Legend at 0x2ee2a7010>"
      ]
     },
     "execution_count": 7,
     "metadata": {},
     "output_type": "execute_result"
    },
    {
     "data": {
      "image/png": "[encoded data removed]",
      "text/plain": [
       "<Figure size 640x480 with 1 Axes>"
      ]
     },
     "metadata": {},
     "output_type": "display_data"
    }
   ],
   "source": [
    "import matplotlib.pyplot as plt\n",
    "\n",
    "plt.plot(tr_loss_his_nsc, label=\"Training loss\")\n",
    "plt.plot(val_loss_his_nsc, label=\"Validation loss\")\n",
    "plt.ylabel(\"Loss\")\n",
    "plt.xlabel(\"Epochs\")\n",
    "plt.title(\"Non-self consistent training\")\n",
    "plt.grid()\n",
    "plt.legend()"
   ]
  },
  {
   "cell_type": "markdown",
   "metadata": {},
   "source": [
    "## Self consistent training\n",
    "\n",
    "### Energy loss\n",
    "\n",
    "In the non-self consistent case above, the density $\\rho(\\mathbf{r})$ is not guaranteed to be a good approximation for the ground-state density of our neural functional. We can, however, enforce this condition at all values of $\\boldsymbol{\\theta}$ by performing a differentiable self consistent field (SCF) calculation. The density itself is now variable. This is more computationally demmanding than before, but is more reliable in many cases. The same loss function we used before can be used here with the small difference that energies are now calculated self-consistently\n",
    "\n",
    "$$\n",
    "\\mathcal{L}^{\\text{SCF}(\\boldsymbol{\\theta})}_E = \\frac{1}{N}\\sum_{i=0}^N (E_i^{\\text{SCF}}(\\boldsymbol{\\theta}) - E_i^{\\text{truth}})^2.\n",
    "$$\n",
    "\n",
    "We have a few different versions of the SCF loop implemented in Grad DFT, but an efficient one is Direct inversion of the iterative subspace (DIIS). This is also compatible with JIT compilation giving us performance boosts.\n",
    "\n",
    "Let's do it."
   ]
  },
  {
   "cell_type": "code",
   "execution_count": 8,
   "metadata": {},
   "outputs": [],
   "source": [
    "sc_en_train_recipe = (\n",
    "    gd.mse_energy_loss, \n",
    "    [None, gd.diff_scf_loop(functional, cycles=5), init_guesses[0:2], energies[0:2], True]\n",
    ")\n",
    "sc_en_validate_recipe = (\n",
    "    gd.mse_energy_loss, \n",
    "    [None, gd.diff_scf_loop(functional, cycles=5), [init_guesses[-1]], [energies[-1]], True]\n",
    ")"
   ]
  },
  {
   "cell_type": "code",
   "execution_count": 9,
   "metadata": {},
   "outputs": [
    {
     "name": "stderr",
     "output_type": "stream",
     "text": [
      "Training epoch:  10%|█         | 5/50 [01:14<09:28, 12.64s/it]"
     ]
    },
    {
     "name": "stdout",
     "output_type": "stream",
     "text": [
      "At epoch 5 training loss = 0.00238399505517971, validation loss = 0.0035369140263443637\n"
     ]
    },
    {
     "name": "stderr",
     "output_type": "stream",
     "text": [
      "Training epoch:  20%|██        | 10/50 [02:06<07:11, 10.80s/it]"
     ]
    },
    {
     "name": "stdout",
     "output_type": "stream",
     "text": [
      "At epoch 10 training loss = 0.001088653754160166, validation loss = 0.0016590113215176382\n"
     ]
    },
    {
     "name": "stderr",
     "output_type": "stream",
     "text": [
      "Training epoch:  30%|███       | 15/50 [02:59<06:14, 10.71s/it]"
     ]
    },
    {
     "name": "stdout",
     "output_type": "stream",
     "text": [
      "At epoch 15 training loss = 0.0006478450511650384, validation loss = 0.0009632679645268661\n"
     ]
    },
    {
     "name": "stderr",
     "output_type": "stream",
     "text": [
      "Training epoch:  40%|████      | 20/50 [03:52<05:19, 10.65s/it]"
     ]
    },
    {
     "name": "stdout",
     "output_type": "stream",
     "text": [
      "At epoch 20 training loss = 0.000371866649469034, validation loss = 0.0006795875118661347\n"
     ]
    },
    {
     "name": "stderr",
     "output_type": "stream",
     "text": [
      "Training epoch:  50%|█████     | 25/50 [04:46<04:29, 10.79s/it]"
     ]
    },
    {
     "name": "stdout",
     "output_type": "stream",
     "text": [
      "At epoch 25 training loss = 0.00020364818858847617, validation loss = 0.00044887603771785474\n"
     ]
    },
    {
     "name": "stderr",
     "output_type": "stream",
     "text": [
      "Training epoch:  60%|██████    | 30/50 [05:35<03:21, 10.07s/it]"
     ]
    },
    {
     "name": "stdout",
     "output_type": "stream",
     "text": [
      "At epoch 30 training loss = 0.00010339994421511352, validation loss = 0.0003280051955680905\n"
     ]
    },
    {
     "name": "stderr",
     "output_type": "stream",
     "text": [
      "Training epoch:  70%|███████   | 35/50 [06:28<02:36, 10.45s/it]"
     ]
    },
    {
     "name": "stdout",
     "output_type": "stream",
     "text": [
      "At epoch 35 training loss = 4.556783382201175e-05, validation loss = 0.00022657713281870893\n"
     ]
    },
    {
     "name": "stderr",
     "output_type": "stream",
     "text": [
      "Training epoch:  80%|████████  | 40/50 [07:21<01:46, 10.61s/it]"
     ]
    },
    {
     "name": "stdout",
     "output_type": "stream",
     "text": [
      "At epoch 40 training loss = 1.5550370753383034e-05, validation loss = 0.00017107720117195686\n"
     ]
    },
    {
     "name": "stderr",
     "output_type": "stream",
     "text": [
      "Training epoch:  90%|█████████ | 45/50 [08:13<00:51, 10.32s/it]"
     ]
    },
    {
     "name": "stdout",
     "output_type": "stream",
     "text": [
      "At epoch 45 training loss = 3.2469204163814686e-06, validation loss = 0.00012042473251341688\n"
     ]
    },
    {
     "name": "stderr",
     "output_type": "stream",
     "text": [
      "Training epoch: 100%|██████████| 50/50 [09:07<00:00, 10.95s/it]"
     ]
    },
    {
     "name": "stdout",
     "output_type": "stream",
     "text": [
      "At epoch 50 training loss = 4.503890287879068e-07, validation loss = 0.00010337712669272074\n"
     ]
    },
    {
     "name": "stderr",
     "output_type": "stream",
     "text": [
      "\n"
     ]
    }
   ],
   "source": [
    "tr_loss_his_sc_en, val_loss_his_sc_en = train_neural_functional(sc_en_train_recipe, sc_en_validate_recipe)"
   ]
  },
  {
   "cell_type": "code",
   "execution_count": 10,
   "metadata": {},
   "outputs": [
    {
     "data": {
      "text/plain": [
       "<matplotlib.legend.Legend at 0x2f54a2470>"
      ]
     },
     "execution_count": 10,
     "metadata": {},
     "output_type": "execute_result"
    },
    {
     "data": {
      "image/png": "[encoded data removed]",
      "text/plain": [
       "<Figure size 640x480 with 1 Axes>"
      ]
     },
     "metadata": {},
     "output_type": "display_data"
    }
   ],
   "source": [
    "plt.plot(tr_loss_his_sc_en, label=\"Training loss\")\n",
    "plt.plot(val_loss_his_sc_en, label=\"Validation loss\")\n",
    "plt.ylabel(\"Loss\")\n",
    "plt.xlabel(\"Epochs\")\n",
    "plt.title(\"SCF training: MSE energy loss\")\n",
    "plt.grid()\n",
    "plt.legend()"
   ]
  },
  {
   "cell_type": "markdown",
   "metadata": {},
   "source": [
    "In this particular case, not much advantage was gained from training self consistently as compared with the non-self consistent case. Indeed, as we will see from the values obtained from the next loss function, the error in the density is very small already. This of course is not guaranteed (and is probably not) the case for more strongly correlated materials where our DFT density guess is poor. "
   ]
  },
  {
   "cell_type": "markdown",
   "metadata": {},
   "source": [
    "### Density loss\n",
    "\n",
    "In self-consistent DFT, we can predict the density as well as the energy. This means that the density can also be trained. In Grad DFT, we use the squared electron error integral to define a density loss\n",
    "\n",
    "$$\n",
    "\\mathcal{L}^{\\text{SCF}}_{\\rho}(\\boldsymbol{\\theta}) = \\frac{1}{N}\\sum_{i=0}^N \\int \\left[ \\rho_{i, \\mathbf{\\theta}}^{\\text{SCF}}(\\mathbf{r}) - \\rho_i^{\\text{truth}}(\\mathbf{r}) \\right] ^2 d \\mathbf{r}.\n",
    "$$\n",
    "\n",
    "where, as before, we also normalize by the number of electrons by default. Let's train with this loss."
   ]
  },
  {
   "cell_type": "code",
   "execution_count": 11,
   "metadata": {},
   "outputs": [],
   "source": [
    "sc_den_train_recipe = (\n",
    "    gd.mse_density_loss, \n",
    "    [None, gd.diff_scf_loop(functional, cycles=5), init_guesses[0:2], densities[0:2], True]\n",
    ")\n",
    "sc_den_validate_recipe = (\n",
    "    gd.mse_density_loss, \n",
    "    [None, gd.diff_scf_loop(functional, cycles=5), [init_guesses[-1]], [densities[-1]], True]\n",
    ")"
   ]
  },
  {
   "cell_type": "code",
   "execution_count": 12,
   "metadata": {},
   "outputs": [
    {
     "name": "stderr",
     "output_type": "stream",
     "text": [
      "Training epoch:  10%|█         | 5/50 [01:09<09:17, 12.39s/it]"
     ]
    },
    {
     "name": "stdout",
     "output_type": "stream",
     "text": [
      "At epoch 5 training loss = 4.464574992221687e-06, validation loss = 4.3467695710988405e-07\n"
     ]
    },
    {
     "name": "stderr",
     "output_type": "stream",
     "text": [
      "Training epoch:  20%|██        | 10/50 [02:03<07:17, 10.93s/it]"
     ]
    },
    {
     "name": "stdout",
     "output_type": "stream",
     "text": [
      "At epoch 10 training loss = 4.2178038478053e-06, validation loss = 3.6569164545080494e-07\n"
     ]
    },
    {
     "name": "stderr",
     "output_type": "stream",
     "text": [
      "Training epoch:  30%|███       | 15/50 [02:52<05:50, 10.01s/it]"
     ]
    },
    {
     "name": "stdout",
     "output_type": "stream",
     "text": [
      "At epoch 15 training loss = 3.686103278261331e-06, validation loss = 3.186324550735884e-07\n"
     ]
    },
    {
     "name": "stderr",
     "output_type": "stream",
     "text": [
      "Training epoch:  40%|████      | 20/50 [03:40<04:54,  9.83s/it]"
     ]
    },
    {
     "name": "stdout",
     "output_type": "stream",
     "text": [
      "At epoch 20 training loss = 3.1343050670298576e-06, validation loss = 2.7878406734761665e-07\n"
     ]
    },
    {
     "name": "stderr",
     "output_type": "stream",
     "text": [
      "Training epoch:  50%|█████     | 25/50 [04:26<03:48,  9.15s/it]"
     ]
    },
    {
     "name": "stdout",
     "output_type": "stream",
     "text": [
      "At epoch 25 training loss = 2.605136843744807e-06, validation loss = 2.3606919138865437e-07\n"
     ]
    },
    {
     "name": "stderr",
     "output_type": "stream",
     "text": [
      "Training epoch:  60%|██████    | 30/50 [05:15<03:11,  9.56s/it]"
     ]
    },
    {
     "name": "stdout",
     "output_type": "stream",
     "text": [
      "At epoch 30 training loss = 2.1294306343301805e-06, validation loss = 1.9771001315751786e-07\n"
     ]
    },
    {
     "name": "stderr",
     "output_type": "stream",
     "text": [
      "Training epoch:  70%|███████   | 35/50 [06:01<02:21,  9.46s/it]"
     ]
    },
    {
     "name": "stdout",
     "output_type": "stream",
     "text": [
      "At epoch 35 training loss = 1.7173452178024291e-06, validation loss = 1.712029034757076e-07\n"
     ]
    },
    {
     "name": "stderr",
     "output_type": "stream",
     "text": [
      "Training epoch:  80%|████████  | 40/50 [06:50<01:37,  9.70s/it]"
     ]
    },
    {
     "name": "stdout",
     "output_type": "stream",
     "text": [
      "At epoch 40 training loss = 1.3853933702452406e-06, validation loss = 1.5005625321762862e-07\n"
     ]
    },
    {
     "name": "stderr",
     "output_type": "stream",
     "text": [
      "Training epoch:  90%|█████████ | 45/50 [07:38<00:48,  9.78s/it]"
     ]
    },
    {
     "name": "stdout",
     "output_type": "stream",
     "text": [
      "At epoch 45 training loss = 1.1111918509494171e-06, validation loss = 1.3053833611850814e-07\n"
     ]
    },
    {
     "name": "stderr",
     "output_type": "stream",
     "text": [
      "Training epoch: 100%|██████████| 50/50 [08:27<00:00, 10.14s/it]"
     ]
    },
    {
     "name": "stdout",
     "output_type": "stream",
     "text": [
      "At epoch 50 training loss = 8.90024907217138e-07, validation loss = 1.1317679815157053e-07\n"
     ]
    },
    {
     "name": "stderr",
     "output_type": "stream",
     "text": [
      "\n"
     ]
    }
   ],
   "source": [
    "tr_loss_his_sc_den, val_loss_his_sc_den = train_neural_functional(sc_den_train_recipe, sc_den_validate_recipe)"
   ]
  },
  {
   "cell_type": "code",
   "execution_count": 13,
   "metadata": {},
   "outputs": [
    {
     "data": {
      "text/plain": [
       "<matplotlib.legend.Legend at 0x15e6dcf40>"
      ]
     },
     "execution_count": 13,
     "metadata": {},
     "output_type": "execute_result"
    },
    {
     "data": {
      "image/png": "[encoded data removed]",
      "text/plain": [
       "<Figure size 640x480 with 1 Axes>"
      ]
     },
     "metadata": {},
     "output_type": "display_data"
    }
   ],
   "source": [
    "plt.plot(tr_loss_his_sc_den, label=\"Training loss\")\n",
    "plt.plot(val_loss_his_sc_den, label=\"Validation loss\")\n",
    "plt.ylabel(\"Loss\")\n",
    "plt.xlabel(\"Epochs\")\n",
    "plt.title(\"SCF training: MSE density loss\")\n",
    "plt.grid()\n",
    "plt.legend()"
   ]
  },
  {
   "cell_type": "markdown",
   "metadata": {},
   "source": [
    "as we already alluded to, it appears that in this situation the density error was already quite low for a randomly initialized $\\boldsymbol{\\theta}$. Interestingly though, Grad DFT was still able to improve this error."
   ]
  },
  {
   "cell_type": "markdown",
   "metadata": {},
   "source": [
    "### Joint energy and density loss\n",
    "\n",
    "Last but not least, the most general way of training a neural functional in Grad DFT, where the data is available, is to train using the energy and density. That is, we have\n",
    "\n",
    "$$\n",
    "L_{E, \\rho}^{SCF}(\\boldsymbol{\\theta}) = a \\mathcal{L}^{\\text{SCF}(\\boldsymbol{\\theta})}_E + b\\mathcal{L}^{\\text{SCF}}_{\\rho}(\\boldsymbol{\\theta})\n",
    "$$\n",
    "\n",
    "where $a$ and $b$ are real valued positive numbers used to weight the loss contribtion from energies and densities, respectively. Because we observed a very low density error in the previous loss function, we will set $b=1000$ in the below to get energy and los contributions on the same order of magnitude.\n",
    "\n"
   ]
  },
  {
   "cell_type": "code",
   "execution_count": 14,
   "metadata": {},
   "outputs": [],
   "source": [
    "sc_en_den_train_recipe = (\n",
    "    gd.mse_energy_and_density_loss, \n",
    "    [None, gd.diff_scf_loop(functional, cycles=5), init_guesses[0:2], densities[0:2], energies[0:2], 1e3, 1.0, True]\n",
    ")\n",
    "sc_en_den_validate_recipe = (\n",
    "    gd.mse_energy_and_density_loss, \n",
    "    [None, gd.diff_scf_loop(functional, cycles=5), [init_guesses[-1]], [densities[-1]], [energies[-1]], 1e3, 1.0, True]\n",
    ")"
   ]
  },
  {
   "cell_type": "code",
   "execution_count": 15,
   "metadata": {},
   "outputs": [
    {
     "name": "stderr",
     "output_type": "stream",
     "text": [
      "Training epoch:  10%|█         | 5/50 [01:08<08:40, 11.58s/it]"
     ]
    },
    {
     "name": "stdout",
     "output_type": "stream",
     "text": [
      "At epoch 5 training loss = 0.013598164241165472, validation loss = 0.006364148983966255\n"
     ]
    },
    {
     "name": "stderr",
     "output_type": "stream",
     "text": [
      "Training epoch:  20%|██        | 10/50 [01:58<06:49, 10.24s/it]"
     ]
    },
    {
     "name": "stdout",
     "output_type": "stream",
     "text": [
      "At epoch 10 training loss = 0.011018529233474164, validation loss = 0.005693115231219465\n"
     ]
    },
    {
     "name": "stderr",
     "output_type": "stream",
     "text": [
      "Training epoch:  30%|███       | 15/50 [02:49<05:55, 10.15s/it]"
     ]
    },
    {
     "name": "stdout",
     "output_type": "stream",
     "text": [
      "At epoch 15 training loss = 0.008348548158219988, validation loss = 0.005873249078416442\n"
     ]
    },
    {
     "name": "stderr",
     "output_type": "stream",
     "text": [
      "Training epoch:  40%|████      | 20/50 [03:41<05:15, 10.53s/it]"
     ]
    },
    {
     "name": "stdout",
     "output_type": "stream",
     "text": [
      "At epoch 20 training loss = 0.0060108443942655755, validation loss = 0.004824226392203727\n"
     ]
    },
    {
     "name": "stderr",
     "output_type": "stream",
     "text": [
      "Training epoch:  50%|█████     | 25/50 [04:39<04:45, 11.44s/it]"
     ]
    },
    {
     "name": "stdout",
     "output_type": "stream",
     "text": [
      "At epoch 25 training loss = 0.00422600419285475, validation loss = 0.0039982460068260246\n"
     ]
    },
    {
     "name": "stderr",
     "output_type": "stream",
     "text": [
      "Training epoch:  60%|██████    | 30/50 [05:35<03:43, 11.16s/it]"
     ]
    },
    {
     "name": "stdout",
     "output_type": "stream",
     "text": [
      "At epoch 30 training loss = 0.0028553252903434924, validation loss = 0.0029548733726936648\n"
     ]
    },
    {
     "name": "stderr",
     "output_type": "stream",
     "text": [
      "Training epoch:  70%|███████   | 35/50 [06:27<02:35, 10.40s/it]"
     ]
    },
    {
     "name": "stdout",
     "output_type": "stream",
     "text": [
      "At epoch 35 training loss = 0.0018726279907694716, validation loss = 0.0022445649115607302\n"
     ]
    },
    {
     "name": "stderr",
     "output_type": "stream",
     "text": [
      "Training epoch:  80%|████████  | 40/50 [07:17<01:42, 10.21s/it]"
     ]
    },
    {
     "name": "stdout",
     "output_type": "stream",
     "text": [
      "At epoch 40 training loss = 0.0012469530775365025, validation loss = 0.0017016321962653879\n"
     ]
    },
    {
     "name": "stderr",
     "output_type": "stream",
     "text": [
      "Training epoch:  90%|█████████ | 45/50 [08:12<00:54, 10.90s/it]"
     ]
    },
    {
     "name": "stdout",
     "output_type": "stream",
     "text": [
      "At epoch 45 training loss = 0.0008324962733540994, validation loss = 0.0014192637604906325\n"
     ]
    },
    {
     "name": "stderr",
     "output_type": "stream",
     "text": [
      "Training epoch: 100%|██████████| 50/50 [09:06<00:00, 10.92s/it]"
     ]
    },
    {
     "name": "stdout",
     "output_type": "stream",
     "text": [
      "At epoch 50 training loss = 0.0005665138101263051, validation loss = 0.0011278189965012975\n"
     ]
    },
    {
     "name": "stderr",
     "output_type": "stream",
     "text": [
      "\n"
     ]
    }
   ],
   "source": [
    "tr_loss_his_sc_en_den, val_loss_his_sc_en_den = train_neural_functional(sc_en_den_train_recipe, sc_en_den_validate_recipe)"
   ]
  },
  {
   "cell_type": "code",
   "execution_count": 16,
   "metadata": {},
   "outputs": [
    {
     "data": {
      "text/plain": [
       "<matplotlib.legend.Legend at 0x317faaf50>"
      ]
     },
     "execution_count": 16,
     "metadata": {},
     "output_type": "execute_result"
    },
    {
     "data": {
      "image/png": "[encoded data removed]",
      "text/plain": [
       "<Figure size 640x480 with 1 Axes>"
      ]
     },
     "metadata": {},
     "output_type": "display_data"
    }
   ],
   "source": [
    "plt.plot(tr_loss_his_sc_en_den, label=\"Training loss\")\n",
    "plt.plot(val_loss_his_sc_en_den, label=\"Validation loss\")\n",
    "plt.ylabel(\"Loss\")\n",
    "plt.xlabel(\"Epochs\")\n",
    "plt.title(\"SCF training: MSE energy and density loss\")\n",
    "plt.grid()\n",
    "plt.legend()"
   ]
  },
  {
   "cell_type": "markdown",
   "metadata": {},
   "source": [
    "You now know how to train a neural functional in Grad DFT with a number of approaches. This notebook was, however, not exhaustive, so please do take a look through the `advanced_scripts` folder for further scripts with advanced training options. "
   ]
  },
  {
   "cell_type": "markdown",
   "metadata": {},
   "source": [
    "<style>\n",
    "@media (prefers-color-scheme: dark) {\n",
    "    .light-mode-image {\n",
    "        display: none;\n",
    "    }\n",
    "}\n",
    "\n",
    "@media (prefers-color-scheme: light) {\n",
    "    .dark-mode-image {\n",
    "        display: none;\n",
    "    }\n",
    "}\n",
    "</style>"
   ]
  }
 ],
 "metadata": {
  "kernelspec": {
   "display_name": "test_train",
   "language": "python",
   "name": "python3"
  },
  "language_info": {
   "codemirror_mode": {
    "name": "ipython",
    "version": 3
   },
   "file_extension": ".py",
   "mimetype": "text/x-python",
   "name": "python",
   "nbconvert_exporter": "python",
   "pygments_lexer": "ipython3",
   "version": "3.10.12"
  },
  "orig_nbformat": 4
 },
 "nbformat": 4,
 "nbformat_minor": 2
}

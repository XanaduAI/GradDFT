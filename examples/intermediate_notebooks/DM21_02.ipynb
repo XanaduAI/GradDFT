{
 "cells": [
  {
   "cell_type": "markdown",
   "metadata": {},
   "source": [
    "# Training DM21."
   ]
  },
  {
   "cell_type": "markdown",
   "metadata": {},
   "source": [
    "Now we will add a non-exact-exchange term to the functional we learned on the 01 example in this folder."
   ]
  },
  {
   "cell_type": "code",
   "execution_count": 1,
   "metadata": {},
   "outputs": [
    {
     "name": "stderr",
     "output_type": "stream",
     "text": [
      "/Users/pablo.casares/miniforge3/envs/graddft/lib/python3.10/site-packages/pyscf/dft/libxc.py:772: UserWarning: Since PySCF-2.3, B3LYP (and B3P86) are changed to the VWN-RPA variant, the same to the B3LYP functional in Gaussian and ORCA (issue 1480). To restore the VWN5 definition, you can put the setting \"B3LYP_WITH_VWN5 = True\" in pyscf_conf.py\n",
      "  warnings.warn('Since PySCF-2.3, B3LYP (and B3P86) are changed to the VWN-RPA variant, '\n"
     ]
    },
    {
     "name": "stdout",
     "output_type": "stream",
     "text": [
      "WARNING:tensorflow:From /Users/pablo.casares/miniforge3/envs/graddft/lib/python3.10/site-packages/tensorflow/python/compat/v2_compat.py:107: disable_resource_variables (from tensorflow.python.ops.variable_scope) is deprecated and will be removed in a future version.\n",
      "Instructions for updating:\n",
      "non-resource variables are not supported in the long term\n"
     ]
    }
   ],
   "source": [
    "from optax import adam, apply_updates\n",
    "from jax.lax import stop_gradient\n",
    "\n",
    "import grad_dft as gd\n",
    "\n",
    "from tqdm import tqdm\n",
    "\n",
    "\n",
    "from jax.config import config\n",
    "config.update(\"jax_enable_x64\", True)"
   ]
  },
  {
   "cell_type": "markdown",
   "metadata": {},
   "source": [
    "We start by initializing the PySCF `molecule` object again"
   ]
  },
  {
   "cell_type": "code",
   "execution_count": 2,
   "metadata": {},
   "outputs": [
    {
     "name": "stdout",
     "output_type": "stream",
     "text": [
      "converged SCF energy = -98.2455025940388  <S^2> = 1.9548807e-12  2S+1 = 1\n"
     ]
    }
   ],
   "source": [
    "# First we define a molecule, using pyscf:\n",
    "from pyscf import gto, dft\n",
    "\n",
    "mol = gto.M(atom=\"H 0 0 0; F 0 0 1.1\")\n",
    "\n",
    "grids = dft.gen_grid.Grids(mol)\n",
    "grids.level = 2\n",
    "grids.build()\n",
    "\n",
    "mf = dft.UKS(mol)\n",
    "mf.grids = grids\n",
    "ground_truth_energy = mf.kernel()"
   ]
  },
  {
   "cell_type": "markdown",
   "metadata": {},
   "source": [
    "The difference now, however, is that we will indicate a non-empty `omegas` list, which will define the values of $\\omega$ in the range-separated Coulomb kernel $\\frac{\\text{erf}(\\omega|r-r'|)}{|r-r'|}$.\n",
    "Note that $\\omega = 0$ indicates the usual Coulomb kernel $\\frac{1}{|r-r'|}$."
   ]
  },
  {
   "cell_type": "code",
   "execution_count": 3,
   "metadata": {},
   "outputs": [],
   "source": [
    "molecule = gd.molecule_from_pyscf(mf, omegas=[0.0, 0.4])"
   ]
  },
  {
   "cell_type": "markdown",
   "metadata": {},
   "source": [
    "Now we can import the DM21 functional and its weights."
   ]
  },
  {
   "cell_type": "code",
   "execution_count": 4,
   "metadata": {},
   "outputs": [],
   "source": [
    "functional = gd.DM21()\n",
    "params = functional.generate_DM21_weights()"
   ]
  },
  {
   "cell_type": "markdown",
   "metadata": {},
   "source": [
    "Next we show three different ways to compute the energy. First, we can use the `.energy()` method of the functional object."
   ]
  },
  {
   "cell_type": "code",
   "execution_count": 5,
   "metadata": {},
   "outputs": [
    {
     "name": "stdout",
     "output_type": "stream",
     "text": [
      "Predicted_energy: -98.88475055003353\n"
     ]
    }
   ],
   "source": [
    "# Or alternatively, we can use an already prepared function that does everything for us\n",
    "predicted_energy = functional.energy(params, molecule)\n",
    "print(\"Predicted_energy:\", predicted_energy)"
   ]
  },
  {
   "cell_type": "markdown",
   "metadata": {},
   "source": [
    "Second, we can use the `molecule_predictor`, which will also return the correct Fock matrix; as in this case there are terms that cannot be computed via autodifferentiation."
   ]
  },
  {
   "cell_type": "code",
   "execution_count": 6,
   "metadata": {},
   "outputs": [
    {
     "name": "stdout",
     "output_type": "stream",
     "text": [
      "Predicted_energy: -98.88475055003353\n"
     ]
    }
   ],
   "source": [
    "predict = gd.energy_predictor(functional)\n",
    "predicted_energy, grads = predict(params, molecule)\n",
    "print(\"Predicted_energy:\", predicted_energy)"
   ]
  },
  {
   "cell_type": "markdown",
   "metadata": {},
   "source": [
    "Third, we can check that the results correspond to the step-by-step computation of the energy."
   ]
  },
  {
   "cell_type": "code",
   "execution_count": 7,
   "metadata": {},
   "outputs": [
    {
     "name": "stdout",
     "output_type": "stream",
     "text": [
      "Energy by parts: -98.88475055003353\n"
     ]
    }
   ],
   "source": [
    "# We generate the input densities from the molecule we created before\n",
    "grad_densities = functional.energy_densities(molecule)\n",
    "nograd_densities = stop_gradient(functional.nograd_densities(molecule))\n",
    "densities = functional.combine_densities(grad_densities, nograd_densities)\n",
    "\n",
    "# We now generated the inputs to the coefficients nn\n",
    "grad_cinputs = functional.coefficient_inputs(molecule)\n",
    "nograd_cinputs = stop_gradient(functional.nograd_coefficient_inputs(molecule))\n",
    "coefficient_inputs = functional.combine_inputs(grad_cinputs, nograd_cinputs)\n",
    "\n",
    "# We can use this features to compute the energy by parts\n",
    "energy = functional.xc_energy(params, molecule.grid, coefficient_inputs, densities)\n",
    "energy += molecule.nonXC()\n",
    "\n",
    "print(\"Energy by parts:\", energy)"
   ]
  },
  {
   "cell_type": "markdown",
   "metadata": {},
   "source": [
    "## Training the functional"
   ]
  },
  {
   "cell_type": "markdown",
   "metadata": {},
   "source": [
    "Now let us train the functional. We start initializing the optimizer."
   ]
  },
  {
   "cell_type": "code",
   "execution_count": 8,
   "metadata": {},
   "outputs": [],
   "source": [
    "# Then, we define the optimizer\n",
    "learning_rate = 1e-5\n",
    "momentum = 0.9\n",
    "tx = adam(learning_rate=learning_rate, b1=momentum)\n",
    "opt_state = tx.init(params)\n",
    "\n",
    "# and implement the optimization loop\n",
    "n_epochs = 15"
   ]
  },
  {
   "cell_type": "markdown",
   "metadata": {},
   "source": [
    "Next, we select the predictor and the loss function."
   ]
  },
  {
   "cell_type": "code",
   "execution_count": 9,
   "metadata": {},
   "outputs": [],
   "source": [
    "predict = gd.non_scf_predictor(functional)"
   ]
  },
  {
   "cell_type": "markdown",
   "metadata": {},
   "source": [
    "Finally we run the training loop."
   ]
  },
  {
   "cell_type": "code",
   "execution_count": 10,
   "metadata": {},
   "outputs": [
    {
     "name": "stderr",
     "output_type": "stream",
     "text": [
      "iterations:   0%|          | 0/15 [00:00<?, ?it/s]"
     ]
    },
    {
     "name": "stdout",
     "output_type": "stream",
     "text": [
      "Iteration 0 Predicted energy: -98.88475055003353\n"
     ]
    },
    {
     "name": "stderr",
     "output_type": "stream",
     "text": [
      "iterations:  13%|█▎        | 2/15 [00:20<02:13, 10.23s/it]"
     ]
    },
    {
     "name": "stdout",
     "output_type": "stream",
     "text": [
      "Iteration 1 Predicted energy: -98.85137783207568\n"
     ]
    },
    {
     "name": "stderr",
     "output_type": "stream",
     "text": [
      "iterations:  20%|██        | 3/15 [00:31<02:04, 10.38s/it]"
     ]
    },
    {
     "name": "stdout",
     "output_type": "stream",
     "text": [
      "Iteration 2 Predicted energy: -98.81918515974253\n"
     ]
    },
    {
     "name": "stderr",
     "output_type": "stream",
     "text": [
      "iterations:  27%|██▋       | 4/15 [00:40<01:49,  9.98s/it]"
     ]
    },
    {
     "name": "stdout",
     "output_type": "stream",
     "text": [
      "Iteration 3 Predicted energy: -98.78806377550379\n"
     ]
    },
    {
     "name": "stderr",
     "output_type": "stream",
     "text": [
      "iterations:  33%|███▎      | 5/15 [00:50<01:39,  9.91s/it]"
     ]
    },
    {
     "name": "stdout",
     "output_type": "stream",
     "text": [
      "Iteration 4 Predicted energy: -98.75789468973491\n"
     ]
    },
    {
     "name": "stderr",
     "output_type": "stream",
     "text": [
      "iterations:  40%|████      | 6/15 [00:56<01:19,  8.81s/it]"
     ]
    },
    {
     "name": "stdout",
     "output_type": "stream",
     "text": [
      "Iteration 5 Predicted energy: -98.72856046786019\n"
     ]
    },
    {
     "name": "stderr",
     "output_type": "stream",
     "text": [
      "iterations:  47%|████▋     | 7/15 [01:03<01:04,  8.12s/it]"
     ]
    },
    {
     "name": "stdout",
     "output_type": "stream",
     "text": [
      "Iteration 6 Predicted energy: -98.69996169212077\n"
     ]
    },
    {
     "name": "stderr",
     "output_type": "stream",
     "text": [
      "iterations:  53%|█████▎    | 8/15 [01:11<00:57,  8.15s/it]"
     ]
    },
    {
     "name": "stdout",
     "output_type": "stream",
     "text": [
      "Iteration 7 Predicted energy: -98.67200346962056\n"
     ]
    },
    {
     "name": "stderr",
     "output_type": "stream",
     "text": [
      "iterations:  60%|██████    | 9/15 [01:22<00:53,  8.85s/it]"
     ]
    },
    {
     "name": "stdout",
     "output_type": "stream",
     "text": [
      "Iteration 8 Predicted energy: -98.6446024706614\n"
     ]
    },
    {
     "name": "stderr",
     "output_type": "stream",
     "text": [
      "iterations:  67%|██████▋   | 10/15 [01:33<00:47,  9.49s/it]"
     ]
    },
    {
     "name": "stdout",
     "output_type": "stream",
     "text": [
      "Iteration 9 Predicted energy: -98.61769399463448\n"
     ]
    },
    {
     "name": "stderr",
     "output_type": "stream",
     "text": [
      "iterations:  73%|███████▎  | 11/15 [01:46<00:42, 10.56s/it]"
     ]
    },
    {
     "name": "stdout",
     "output_type": "stream",
     "text": [
      "Iteration 10 Predicted energy: -98.59121950506238\n"
     ]
    },
    {
     "name": "stderr",
     "output_type": "stream",
     "text": [
      "iterations:  80%|████████  | 12/15 [01:59<00:34, 11.42s/it]"
     ]
    },
    {
     "name": "stdout",
     "output_type": "stream",
     "text": [
      "Iteration 11 Predicted energy: -98.56513479654217\n"
     ]
    },
    {
     "name": "stderr",
     "output_type": "stream",
     "text": [
      "iterations:  87%|████████▋ | 13/15 [02:10<00:22, 11.25s/it]"
     ]
    },
    {
     "name": "stdout",
     "output_type": "stream",
     "text": [
      "Iteration 12 Predicted energy: -98.53941111352529\n"
     ]
    },
    {
     "name": "stderr",
     "output_type": "stream",
     "text": [
      "iterations:  93%|█████████▎| 14/15 [02:23<00:11, 11.75s/it]"
     ]
    },
    {
     "name": "stdout",
     "output_type": "stream",
     "text": [
      "Iteration 13 Predicted energy: -98.5140372380046\n"
     ]
    },
    {
     "name": "stderr",
     "output_type": "stream",
     "text": [
      "iterations: 100%|██████████| 15/15 [02:37<00:00, 10.50s/it]"
     ]
    },
    {
     "name": "stdout",
     "output_type": "stream",
     "text": [
      "Iteration 14 Predicted energy: -98.48902020770015\n"
     ]
    },
    {
     "name": "stderr",
     "output_type": "stream",
     "text": [
      "\n"
     ]
    }
   ],
   "source": [
    "losses = []\n",
    "for iteration in tqdm(range(n_epochs), desc = 'iterations'):\n",
    "    (loss, predicted_energy), grads = gd.simple_energy_loss(\n",
    "        params, predict, molecule, ground_truth_energy\n",
    "    )\n",
    "    print(\"Iteration\", iteration, \"Predicted energy:\", predicted_energy)\n",
    "    losses.append(loss)\n",
    "    updates, opt_state = tx.update(grads, opt_state, params)\n",
    "    params = apply_updates(params, updates)"
   ]
  },
  {
   "cell_type": "markdown",
   "metadata": {},
   "source": [
    "Save the checkpoints."
   ]
  },
  {
   "cell_type": "code",
   "execution_count": 11,
   "metadata": {},
   "outputs": [],
   "source": [
    "# We can save the checkpoint back.\n",
    "functional.save_checkpoints(params, tx, step=n_epochs)"
   ]
  },
  {
   "cell_type": "markdown",
   "metadata": {},
   "source": [
    "We can also plot the results."
   ]
  },
  {
   "cell_type": "code",
   "execution_count": 12,
   "metadata": {},
   "outputs": [
    {
     "data": {
      "text/plain": [
       "<matplotlib.legend.Legend at 0x2b0b34700>"
      ]
     },
     "execution_count": 12,
     "metadata": {},
     "output_type": "execute_result"
    },
    {
     "data": {
      "image/png": "[encoded data removed]",
      "text/plain": [
       "<Figure size 640x480 with 1 Axes>"
      ]
     },
     "metadata": {},
     "output_type": "display_data"
    }
   ],
   "source": [
    "import matplotlib.pyplot as plt\n",
    "\n",
    "fig, ax = plt.subplots()\n",
    "\n",
    "ax.plot(losses, label=\"Square loss\")\n",
    "ax.set_xlabel(\"Iteration\")\n",
    "ax.set_ylabel(r\"Square error loss (Ha$^2$)\")\n",
    "\n",
    "# Set x labels at integer values\n",
    "import numpy as np\n",
    "\n",
    "ax.set_xticks(np.arange(0, n_epochs, 1.0))\n",
    "\n",
    "ax.set_title(\"Loss during training\")\n",
    "\n",
    "ax.set_yscale(\"log\")\n",
    "\n",
    "ax.legend()"
   ]
  },
  {
   "cell_type": "markdown",
   "metadata": {},
   "source": [
    "## Self-consistent iterative procedure"
   ]
  },
  {
   "cell_type": "markdown",
   "metadata": {},
   "source": [
    "We first load the checkpoint."
   ]
  },
  {
   "cell_type": "code",
   "execution_count": 13,
   "metadata": {},
   "outputs": [],
   "source": [
    "train_state = functional.load_checkpoint(\n",
    "    tx, ckpt_dir=\"ckpts/checkpoint_\" + str(n_epochs) + \"/\", step=n_epochs\n",
    ")\n",
    "params = train_state.params\n",
    "tx = train_state.tx\n",
    "opt_state = tx.init(params)"
   ]
  },
  {
   "cell_type": "markdown",
   "metadata": {},
   "source": [
    "Then, we initialize the self-consistent iteration."
   ]
  },
  {
   "cell_type": "code",
   "execution_count": 14,
   "metadata": {},
   "outputs": [],
   "source": [
    "scf_iterator = gd.scf_loop(functional, verbose=2, cycles=5)"
   ]
  },
  {
   "cell_type": "markdown",
   "metadata": {},
   "source": [
    "and finally we run it."
   ]
  },
  {
   "cell_type": "code",
   "execution_count": 15,
   "metadata": {},
   "outputs": [
    {
     "name": "stdout",
     "output_type": "stream",
     "text": [
      "SCF not converged.\n",
      "SCF energy = -98.1437213127202\n",
      "cycle: 0, energy: -9.8464435e+01, energy difference: 6.0667e-05, norm_gradient_orbitals: 5.07e-03, seconds: 9.6e+00\n",
      "cycle: 1, energy: -9.8464482e+01, energy difference: 4.7335e-05, norm_gradient_orbitals: 1.41e-03, seconds: 7.2e+00\n",
      "cycle: 2, energy: -9.8464470e+01, energy difference: 1.2183e-05, norm_gradient_orbitals: 6.89e-03, seconds: 7.2e+00\n",
      "cycle: 3, energy: -9.8464511e+01, energy difference: 4.0626e-05, norm_gradient_orbitals: 5.99e-03, seconds: 8.2e+00\n",
      "cycle: 4, energy: -9.8464477e+01, energy difference: 3.3141e-05, norm_gradient_orbitals: 6.45e-03, seconds: 7.3e+00\n",
      "cycle: 5, predicted energy: -9.8464477e+01, energy difference: 3.3141e-05, norm_gradient_orbitals: 6.45e-03\n",
      "The predicted energy is -98.46447747758238\n"
     ]
    }
   ],
   "source": [
    "# Finally, we create and implement the self-consistent loop.\n",
    "modified_molecule = scf_iterator(params, molecule)\n",
    "\n",
    "print(f\"The predicted energy is {modified_molecule.energy}\")\n"
   ]
  },
  {
   "cell_type": "markdown",
   "metadata": {},
   "source": [
    "Note that in this case we cannot use the differentiable scf iterator, as the functional include exact exchange terms that cannot be computed via autodifferentiation."
   ]
  }
 ],
 "metadata": {
  "kernelspec": {
   "display_name": "graddft",
   "language": "python",
   "name": "python3"
  },
  "language_info": {
   "codemirror_mode": {
    "name": "ipython",
    "version": 3
   },
   "file_extension": ".py",
   "mimetype": "text/x-python",
   "name": "python",
   "nbconvert_exporter": "python",
   "pygments_lexer": "ipython3",
   "version": "3.10.12"
  },
  "orig_nbformat": 4
 },
 "nbformat": 4,
 "nbformat_minor": 2
}

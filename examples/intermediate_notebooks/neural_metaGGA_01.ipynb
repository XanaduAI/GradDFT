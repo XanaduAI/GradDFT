{
 "cells": [
  {
   "cell_type": "markdown",
   "metadata": {},
   "source": [
    "# End-to-end neural functional training and prediction"
   ]
  },
  {
   "cell_type": "markdown",
   "metadata": {},
   "source": [
    "In this notebook we show how to train a meta-GGA neural functional without exact-exchange end-to-end. We start loading a few modules."
   ]
  },
  {
   "cell_type": "code",
   "execution_count": 1,
   "metadata": {},
   "outputs": [
    {
     "name": "stderr",
     "output_type": "stream",
     "text": [
      "/Users/pablo.casares/miniforge3/envs/graddft/lib/python3.10/site-packages/pyscf/dft/libxc.py:772: UserWarning: Since PySCF-2.3, B3LYP (and B3P86) are changed to the VWN-RPA variant, the same to the B3LYP functional in Gaussian and ORCA (issue 1480). To restore the VWN5 definition, you can put the setting \"B3LYP_WITH_VWN5 = True\" in pyscf_conf.py\n",
      "  warnings.warn('Since PySCF-2.3, B3LYP (and B3P86) are changed to the VWN-RPA variant, '\n"
     ]
    },
    {
     "name": "stdout",
     "output_type": "stream",
     "text": [
      "WARNING:tensorflow:From /Users/pablo.casares/miniforge3/envs/graddft/lib/python3.10/site-packages/tensorflow/python/compat/v2_compat.py:107: disable_resource_variables (from tensorflow.python.ops.variable_scope) is deprecated and will be removed in a future version.\n",
      "Instructions for updating:\n",
      "non-resource variables are not supported in the long term\n"
     ]
    }
   ],
   "source": [
    "from jax.random import split, PRNGKey\n",
    "from jax import numpy as jnp\n",
    "from optax import adam, apply_updates\n",
    "from jax.nn import gelu\n",
    "\n",
    "from jax.config import config\n",
    "config.update(\"jax_enable_x64\", True)\n",
    "\n",
    "import grad_dft as gd\n",
    "\n",
    "from pyscf import gto, dft\n",
    "from tqdm import tqdm"
   ]
  },
  {
   "cell_type": "markdown",
   "metadata": {},
   "source": [
    "We will use the [PySCF](https://github.com/pyscf/pyscf) package to generate the training data, in this case a single HF molecule."
   ]
  },
  {
   "cell_type": "code",
   "execution_count": 2,
   "metadata": {},
   "outputs": [
    {
     "name": "stdout",
     "output_type": "stream",
     "text": [
      "converged SCF energy = -98.2455025940388  <S^2> = 1.9548807e-12  2S+1 = 1\n"
     ]
    }
   ],
   "source": [
    "mol = gto.M(atom=\"H 0 0 0; F 0 0 1.1\")\n",
    "\n",
    "grids = dft.gen_grid.Grids(mol)\n",
    "grids.level = 2\n",
    "grids.build()\n",
    "\n",
    "mf = dft.UKS(mol)\n",
    "mf.grids = grids\n",
    "ground_truth_energy = mf.kernel()\n",
    "\n",
    "# Then we compute quite a few properties which we pack into a class called Molecule\n",
    "molecule = gd.molecule_from_pyscf(mf)"
   ]
  },
  {
   "cell_type": "markdown",
   "metadata": {},
   "source": [
    "Next we generate the Functional. We will use an architecture similar to DM21 without the exact-exchange component, this means "
   ]
  },
  {
   "cell_type": "code",
   "execution_count": 3,
   "metadata": {},
   "outputs": [],
   "source": [
    "squash_offset = 1e-4\n",
    "layer_widths = [256] * 6\n",
    "out_features = 4\n",
    "sigmoid_scale_factor = 2.0\n",
    "activation = gelu"
   ]
  },
  {
   "cell_type": "markdown",
   "metadata": {},
   "source": [
    "Remember that to generate a `NeuralFunctional` we need to define the `coefficients`, `energy_densities` and `coefficient_inputs`. For the latter two we will use the same as DM21, and manually define the neural network for the `coefficients`.\n",
    "The `sow` command is not necessary but can help check that the intermediate results are correct."
   ]
  },
  {
   "cell_type": "code",
   "execution_count": 4,
   "metadata": {},
   "outputs": [],
   "source": [
    "def nn_coefficients(instance, rhoinputs, *_, **__):\n",
    "    x = gd.canonicalize_inputs(rhoinputs)  # Making sure dimensions are correct\n",
    "\n",
    "    # Initial layer: log -> dense -> tanh\n",
    "    x = jnp.log(jnp.abs(x) + squash_offset)  # squash_offset = 1e-4\n",
    "    instance.sow(\"intermediates\", \"log\", x)\n",
    "    x = instance.dense(features=layer_widths[0])(x)  # features = 256\n",
    "    instance.sow(\"intermediates\", \"initial_dense\", x)\n",
    "    x = jnp.tanh(x)\n",
    "    instance.sow(\"intermediates\", \"tanh\", x)\n",
    "\n",
    "    # 6 Residual blocks with 256-features dense layer and layer norm\n",
    "    for features, i in zip(layer_widths, range(len(layer_widths))):  # layer_widths = [256]*6\n",
    "        res = x\n",
    "        x = instance.dense(features=features)(x)\n",
    "        instance.sow(\"intermediates\", \"residual_dense_\" + str(i), x)\n",
    "        x = x + res  # nn.Dense + Residual connection\n",
    "        instance.sow(\"intermediates\", \"residual_residual_\" + str(i), x)\n",
    "        x = instance.layer_norm()(x)  # + res # nn.LayerNorm\n",
    "        instance.sow(\"intermediates\", \"residual_layernorm_\" + str(i), x)\n",
    "        x = activation(x)  # activation = jax.nn.gelu\n",
    "        instance.sow(\"intermediates\", \"residual_elu_\" + str(i), x)\n",
    "\n",
    "    return instance.head(x, out_features, sigmoid_scale_factor)\n",
    "\n",
    "\n",
    "functional = gd.NeuralFunctional(\n",
    "    coefficients=nn_coefficients,\n",
    "    energy_densities=gd.dm21_densities,\n",
    "    coefficient_inputs=gd.dm21_coefficient_inputs,\n",
    ")"
   ]
  },
  {
   "cell_type": "markdown",
   "metadata": {},
   "source": [
    "Next we need to initialize the `NeuralFunctional` parameters. For that we need to input a matrix with the correct shape, the same as the output of the corresponding `coefficient_inputs`."
   ]
  },
  {
   "cell_type": "code",
   "execution_count": 5,
   "metadata": {},
   "outputs": [],
   "source": [
    "key = PRNGKey(42)  # Jax-style random seed\n",
    "\n",
    "# We generate the features from the molecule we created before\n",
    "rhoinputs = gd.dm21_coefficient_inputs(molecule=molecule)\n",
    "\n",
    "# We initialize the Functional parameters\n",
    "(key,) = split(key, 1)\n",
    "\n",
    "# We make 2 copies for two separate training rounds\n",
    "params = functional.init(key, rhoinputs)\n",
    "scf_params = functional.init(key, rhoinputs)"
   ]
  },
  {
   "cell_type": "markdown",
   "metadata": {},
   "source": [
    "## Training the functional"
   ]
  },
  {
   "cell_type": "markdown",
   "metadata": {},
   "source": [
    "Now we are ready to train the functional. We initialize the optimizer"
   ]
  },
  {
   "cell_type": "code",
   "execution_count": 6,
   "metadata": {},
   "outputs": [],
   "source": [
    "# Then, we define the optimizer\n",
    "learning_rate = 1e-4\n",
    "momentum = 0.9\n",
    "tx = adam(learning_rate=learning_rate, b1=momentum)\n",
    "opt_state = tx.init(params)\n",
    "\n",
    "# and number of epochs\n",
    "n_epochs = 25"
   ]
  },
  {
   "cell_type": "markdown",
   "metadata": {},
   "source": [
    "Then we define how the single pass energy is computed, in this case with `molecule_predictor` which is not self-consistent."
   ]
  },
  {
   "cell_type": "code",
   "execution_count": 7,
   "metadata": {},
   "outputs": [],
   "source": [
    "predict = gd.non_scf_predictor(functional)"
   ]
  },
  {
   "cell_type": "markdown",
   "metadata": {},
   "source": [
    "Finally we can train the functional. The `simple_energy_loss` takes the `params`, `predict` object, `molecule` and corresponding `ground_truth_energy`; and returns the `loss` and `predicted_energy`, as well as the `gradient` of the `loss` with respect to the `params`.\n",
    "\n",
    "The last two lines in the loop update the optimizer state and `params`."
   ]
  },
  {
   "cell_type": "code",
   "execution_count": 8,
   "metadata": {},
   "outputs": [
    {
     "name": "stderr",
     "output_type": "stream",
     "text": [
      "iterations:   0%|          | 0/25 [00:00<?, ?it/s]"
     ]
    },
    {
     "name": "stdout",
     "output_type": "stream",
     "text": [
      "Iteration 0 Predicted energy: -126.58222116249533\n"
     ]
    },
    {
     "name": "stderr",
     "output_type": "stream",
     "text": [
      "iterations:   8%|▊         | 2/25 [00:12<02:13,  5.81s/it]"
     ]
    },
    {
     "name": "stdout",
     "output_type": "stream",
     "text": [
      "Iteration 1 Predicted energy: -124.41011144253119\n"
     ]
    },
    {
     "name": "stderr",
     "output_type": "stream",
     "text": [
      "iterations:  12%|█▏        | 3/25 [00:17<02:00,  5.45s/it]"
     ]
    },
    {
     "name": "stdout",
     "output_type": "stream",
     "text": [
      "Iteration 2 Predicted energy: -122.2198350269614\n"
     ]
    },
    {
     "name": "stderr",
     "output_type": "stream",
     "text": [
      "iterations:  16%|█▌        | 4/25 [00:23<01:57,  5.61s/it]"
     ]
    },
    {
     "name": "stdout",
     "output_type": "stream",
     "text": [
      "Iteration 3 Predicted energy: -120.0588842328957\n"
     ]
    },
    {
     "name": "stderr",
     "output_type": "stream",
     "text": [
      "iterations:  20%|██        | 5/25 [00:27<01:39,  4.99s/it]"
     ]
    },
    {
     "name": "stdout",
     "output_type": "stream",
     "text": [
      "Iteration 4 Predicted energy: -117.97161130562608\n"
     ]
    },
    {
     "name": "stderr",
     "output_type": "stream",
     "text": [
      "iterations:  24%|██▍       | 6/25 [00:30<01:21,  4.31s/it]"
     ]
    },
    {
     "name": "stdout",
     "output_type": "stream",
     "text": [
      "Iteration 5 Predicted energy: -115.99037094793184\n"
     ]
    },
    {
     "name": "stderr",
     "output_type": "stream",
     "text": [
      "iterations:  28%|██▊       | 7/25 [00:33<01:09,  3.86s/it]"
     ]
    },
    {
     "name": "stdout",
     "output_type": "stream",
     "text": [
      "Iteration 6 Predicted energy: -114.13385717504572\n"
     ]
    },
    {
     "name": "stderr",
     "output_type": "stream",
     "text": [
      "iterations:  32%|███▏      | 8/25 [00:36<00:59,  3.52s/it]"
     ]
    },
    {
     "name": "stdout",
     "output_type": "stream",
     "text": [
      "Iteration 7 Predicted energy: -112.41241411440677\n"
     ]
    },
    {
     "name": "stderr",
     "output_type": "stream",
     "text": [
      "iterations:  36%|███▌      | 9/25 [00:40<00:59,  3.74s/it]"
     ]
    },
    {
     "name": "stdout",
     "output_type": "stream",
     "text": [
      "Iteration 8 Predicted energy: -110.8331200989404\n"
     ]
    },
    {
     "name": "stderr",
     "output_type": "stream",
     "text": [
      "iterations:  40%|████      | 10/25 [00:43<00:53,  3.55s/it]"
     ]
    },
    {
     "name": "stdout",
     "output_type": "stream",
     "text": [
      "Iteration 9 Predicted energy: -109.40133804633663\n"
     ]
    },
    {
     "name": "stderr",
     "output_type": "stream",
     "text": [
      "iterations:  44%|████▍     | 11/25 [00:46<00:49,  3.51s/it]"
     ]
    },
    {
     "name": "stdout",
     "output_type": "stream",
     "text": [
      "Iteration 10 Predicted energy: -108.11954014984669\n"
     ]
    },
    {
     "name": "stderr",
     "output_type": "stream",
     "text": [
      "iterations:  48%|████▊     | 12/25 [00:50<00:45,  3.47s/it]"
     ]
    },
    {
     "name": "stdout",
     "output_type": "stream",
     "text": [
      "Iteration 11 Predicted energy: -106.98491941571127\n"
     ]
    },
    {
     "name": "stderr",
     "output_type": "stream",
     "text": [
      "iterations:  52%|█████▏    | 13/25 [00:53<00:40,  3.41s/it]"
     ]
    },
    {
     "name": "stdout",
     "output_type": "stream",
     "text": [
      "Iteration 12 Predicted energy: -105.98791855158976\n"
     ]
    },
    {
     "name": "stderr",
     "output_type": "stream",
     "text": [
      "iterations:  56%|█████▌    | 14/25 [00:56<00:36,  3.35s/it]"
     ]
    },
    {
     "name": "stdout",
     "output_type": "stream",
     "text": [
      "Iteration 13 Predicted energy: -105.11366782602809\n"
     ]
    },
    {
     "name": "stderr",
     "output_type": "stream",
     "text": [
      "iterations:  60%|██████    | 15/25 [01:00<00:36,  3.62s/it]"
     ]
    },
    {
     "name": "stdout",
     "output_type": "stream",
     "text": [
      "Iteration 14 Predicted energy: -104.3454587302345\n"
     ]
    },
    {
     "name": "stderr",
     "output_type": "stream",
     "text": [
      "iterations:  64%|██████▍   | 16/25 [01:03<00:30,  3.44s/it]"
     ]
    },
    {
     "name": "stdout",
     "output_type": "stream",
     "text": [
      "Iteration 15 Predicted energy: -103.66756903751623\n"
     ]
    },
    {
     "name": "stderr",
     "output_type": "stream",
     "text": [
      "iterations:  68%|██████▊   | 17/25 [01:07<00:28,  3.52s/it]"
     ]
    },
    {
     "name": "stdout",
     "output_type": "stream",
     "text": [
      "Iteration 16 Predicted energy: -103.06636228550838\n"
     ]
    },
    {
     "name": "stderr",
     "output_type": "stream",
     "text": [
      "iterations:  72%|███████▏  | 18/25 [01:11<00:25,  3.70s/it]"
     ]
    },
    {
     "name": "stdout",
     "output_type": "stream",
     "text": [
      "Iteration 17 Predicted energy: -102.53032218686076\n"
     ]
    },
    {
     "name": "stderr",
     "output_type": "stream",
     "text": [
      "iterations:  76%|███████▌  | 19/25 [01:15<00:21,  3.62s/it]"
     ]
    },
    {
     "name": "stdout",
     "output_type": "stream",
     "text": [
      "Iteration 18 Predicted energy: -102.04979766812596\n"
     ]
    },
    {
     "name": "stderr",
     "output_type": "stream",
     "text": [
      "iterations:  80%|████████  | 20/25 [01:18<00:18,  3.65s/it]"
     ]
    },
    {
     "name": "stdout",
     "output_type": "stream",
     "text": [
      "Iteration 19 Predicted energy: -101.61675655960839\n"
     ]
    },
    {
     "name": "stderr",
     "output_type": "stream",
     "text": [
      "iterations:  84%|████████▍ | 21/25 [01:21<00:13,  3.44s/it]"
     ]
    },
    {
     "name": "stdout",
     "output_type": "stream",
     "text": [
      "Iteration 20 Predicted energy: -101.22457633687915\n"
     ]
    },
    {
     "name": "stderr",
     "output_type": "stream",
     "text": [
      "iterations:  88%|████████▊ | 22/25 [01:24<00:09,  3.27s/it]"
     ]
    },
    {
     "name": "stdout",
     "output_type": "stream",
     "text": [
      "Iteration 21 Predicted energy: -100.86784942543805\n"
     ]
    },
    {
     "name": "stderr",
     "output_type": "stream",
     "text": [
      "iterations:  92%|█████████▏| 23/25 [01:27<00:06,  3.15s/it]"
     ]
    },
    {
     "name": "stdout",
     "output_type": "stream",
     "text": [
      "Iteration 22 Predicted energy: -100.54219460409625\n"
     ]
    },
    {
     "name": "stderr",
     "output_type": "stream",
     "text": [
      "iterations:  96%|█████████▌| 24/25 [01:31<00:03,  3.28s/it]"
     ]
    },
    {
     "name": "stdout",
     "output_type": "stream",
     "text": [
      "Iteration 23 Predicted energy: -100.2440780088875\n"
     ]
    },
    {
     "name": "stderr",
     "output_type": "stream",
     "text": [
      "iterations: 100%|██████████| 25/25 [01:34<00:00,  3.77s/it]"
     ]
    },
    {
     "name": "stdout",
     "output_type": "stream",
     "text": [
      "Iteration 24 Predicted energy: -99.97064988202253\n"
     ]
    },
    {
     "name": "stderr",
     "output_type": "stream",
     "text": [
      "\n"
     ]
    }
   ],
   "source": [
    "losses = []\n",
    "for iteration in tqdm(range(n_epochs), desc = 'iterations'):\n",
    "    (loss, predicted_energy), grads = gd.simple_energy_loss(\n",
    "        params, predict, molecule, ground_truth_energy\n",
    "    )\n",
    "    print(\"Iteration\", iteration, \"Predicted energy:\", predicted_energy)\n",
    "    losses.append(loss)\n",
    "    updates, opt_state = tx.update(grads, opt_state, params)\n",
    "    params = apply_updates(params, updates)"
   ]
  },
  {
   "cell_type": "markdown",
   "metadata": {},
   "source": [
    "We can now use the `NeuralFunctional` functionality to save a checkpoint of the training."
   ]
  },
  {
   "cell_type": "code",
   "execution_count": 9,
   "metadata": {},
   "outputs": [],
   "source": [
    "functional.save_checkpoints(params, tx, step=n_epochs)"
   ]
  },
  {
   "cell_type": "markdown",
   "metadata": {},
   "source": [
    "We can also plot the loss"
   ]
  },
  {
   "cell_type": "code",
   "execution_count": 10,
   "metadata": {},
   "outputs": [
    {
     "data": {
      "text/plain": [
       "<matplotlib.legend.Legend at 0x2b08721d0>"
      ]
     },
     "execution_count": 10,
     "metadata": {},
     "output_type": "execute_result"
    },
    {
     "data": {
      "image/png": "[encoded data removed]",
      "text/plain": [
       "<Figure size 640x480 with 1 Axes>"
      ]
     },
     "metadata": {},
     "output_type": "display_data"
    }
   ],
   "source": [
    "import matplotlib.pyplot as plt\n",
    "\n",
    "fig, ax = plt.subplots()\n",
    "\n",
    "ax.plot(losses, label=\"Square loss\")\n",
    "ax.set_xlabel(\"Iteration\")\n",
    "ax.set_ylabel(r\"Square error loss (Ha$^2$)\")\n",
    "\n",
    "# Set x labels at integer values\n",
    "import numpy as np\n",
    "\n",
    "ax.set_xticks(np.arange(0, n_epochs, 1.0))\n",
    "\n",
    "ax.set_title(\"Loss during training\")\n",
    "\n",
    "ax.set_yscale(\"log\")\n",
    "\n",
    "ax.legend()"
   ]
  },
  {
   "cell_type": "markdown",
   "metadata": {},
   "source": [
    "## Self-consistent iterative procedure"
   ]
  },
  {
   "cell_type": "markdown",
   "metadata": {},
   "source": [
    "We can also used the trained functional to compute the energy of the molecule"
   ]
  },
  {
   "cell_type": "code",
   "execution_count": 11,
   "metadata": {},
   "outputs": [
    {
     "name": "stdout",
     "output_type": "stream",
     "text": [
      "Predicted_energy: -99.71960153224379\n"
     ]
    }
   ],
   "source": [
    "predicted_energy = functional.energy(params, molecule)\n",
    "print(\"Predicted_energy:\", predicted_energy)"
   ]
  },
  {
   "cell_type": "markdown",
   "metadata": {},
   "source": [
    "Which step by step is being computed as"
   ]
  },
  {
   "cell_type": "code",
   "execution_count": 12,
   "metadata": {},
   "outputs": [
    {
     "name": "stdout",
     "output_type": "stream",
     "text": [
      "Predicted_energy: -99.71960153224379\n"
     ]
    }
   ],
   "source": [
    "# We generate the input densities from the molecule we created before\n",
    "densities = functional.energy_densities(molecule)\n",
    "# We now generated the inputs to the coefficients nn\n",
    "coefficient_inputs = functional.coefficient_inputs(molecule)\n",
    "# We can use this features to compute the energy by parts\n",
    "predicted_energy = functional.xc_energy(\n",
    "    params, molecule.grid, coefficient_inputs, densities\n",
    ")\n",
    "predicted_energy += molecule.nonXC()\n",
    "print(\"Predicted_energy:\", predicted_energy)"
   ]
  },
  {
   "cell_type": "markdown",
   "metadata": {},
   "source": [
    "We can now implement a self consistent loop to compute the energy of the molecule. For that we first load the saved checkpoint"
   ]
  },
  {
   "cell_type": "code",
   "execution_count": 13,
   "metadata": {},
   "outputs": [],
   "source": [
    "train_state = functional.load_checkpoint(\n",
    "    tx, ckpt_dir=\"ckpts/checkpoint_\" + str(n_epochs) + \"/\", step=n_epochs\n",
    ")\n",
    "params = train_state.params\n",
    "tx = train_state.tx\n",
    "opt_state = tx.init(params)"
   ]
  },
  {
   "cell_type": "markdown",
   "metadata": {},
   "source": [
    "Then we can create the scf iteration object"
   ]
  },
  {
   "cell_type": "code",
   "execution_count": 14,
   "metadata": {},
   "outputs": [],
   "source": [
    "scf_iterator = gd.scf_loop(functional, verbose=2, cycles = 10)"
   ]
  },
  {
   "cell_type": "markdown",
   "metadata": {},
   "source": [
    "and use to compute the energy, outputing a `Molecule` instance with the `energy` attribute set to the predicted energy of the molecule."
   ]
  },
  {
   "cell_type": "code",
   "execution_count": 15,
   "metadata": {},
   "outputs": [
    {
     "name": "stdout",
     "output_type": "stream",
     "text": [
      "SCF not converged.\n",
      "SCF energy = -98.1437213127202\n",
      "cycle: 0, energy: -9.9728422e+01, energy difference: 8.8204e-03, norm_gradient_orbitals: 2.66e-02, seconds: 2.2e+00\n",
      "cycle: 1, energy: -9.9761864e+01, energy difference: 3.3442e-02, norm_gradient_orbitals: 1.65e-02, seconds: 1.9e+00\n",
      "cycle: 2, energy: -9.9764396e+01, energy difference: 2.5319e-03, norm_gradient_orbitals: 3.11e-02, seconds: 2.4e+00\n",
      "cycle: 3, energy: -9.9765621e+01, energy difference: 1.2256e-03, norm_gradient_orbitals: 4.45e-02, seconds: 2.2e+00\n",
      "cycle: 4, energy: -9.9759665e+01, energy difference: 5.9569e-03, norm_gradient_orbitals: 7.20e-02, seconds: 2.0e+00\n",
      "cycle: 5, energy: -9.9758833e+01, energy difference: 8.3152e-04, norm_gradient_orbitals: 6.14e-02, seconds: 1.8e+00\n",
      "cycle: 6, energy: -9.9765185e+01, energy difference: 6.3522e-03, norm_gradient_orbitals: 2.07e-02, seconds: 2.4e+00\n",
      "cycle: 7, energy: -9.9764861e+01, energy difference: 3.2424e-04, norm_gradient_orbitals: 3.59e-02, seconds: 2.5e+00\n",
      "cycle: 8, energy: -9.9766633e+01, energy difference: 1.7718e-03, norm_gradient_orbitals: 5.94e-02, seconds: 2.4e+00\n",
      "cycle: 9, energy: -9.9768133e+01, energy difference: 1.5003e-03, norm_gradient_orbitals: 7.98e-02, seconds: 1.9e+00\n",
      "cycle: 10, predicted energy: -9.9768133e+01, energy difference: 1.5003e-03, norm_gradient_orbitals: 7.98e-02\n",
      "The predicted energy is -99.76813315922598\n"
     ]
    }
   ],
   "source": [
    "modified_molecule = scf_iterator(params, molecule)\n",
    "print(f\"The predicted energy is {modified_molecule.energy}\")\n"
   ]
  },
  {
   "cell_type": "markdown",
   "metadata": {},
   "source": [
    "This will coincide with the differentiable scf loop result. We initialize the iterator."
   ]
  },
  {
   "cell_type": "code",
   "execution_count": 16,
   "metadata": {},
   "outputs": [],
   "source": [
    "scf_iterator = gd.diff_scf_loop(functional, cycles = 10)"
   ]
  },
  {
   "cell_type": "markdown",
   "metadata": {},
   "source": [
    "and execute it."
   ]
  },
  {
   "cell_type": "code",
   "execution_count": 17,
   "metadata": {},
   "outputs": [
    {
     "name": "stdout",
     "output_type": "stream",
     "text": [
      "The predicted energy is -99.76659124061376\n"
     ]
    }
   ],
   "source": [
    "modified_molecule = scf_iterator(params, molecule)\n",
    "print(f\"The predicted energy is {modified_molecule.energy}\")"
   ]
  }
 ],
 "metadata": {
  "kernelspec": {
   "display_name": "graddft",
   "language": "python",
   "name": "python3"
  },
  "language_info": {
   "codemirror_mode": {
    "name": "ipython",
    "version": 3
   },
   "file_extension": ".py",
   "mimetype": "text/x-python",
   "name": "python",
   "nbconvert_exporter": "python",
   "pygments_lexer": "ipython3",
   "version": "3.10.12"
  },
  "orig_nbformat": 4
 },
 "nbformat": 4,
 "nbformat_minor": 2
}
